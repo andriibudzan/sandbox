{
 "cells": [
  {
   "cell_type": "code",
   "execution_count": 1,
   "id": "a2244bc2-7f0b-4189-aaa9-0088883e1a69",
   "metadata": {},
   "outputs": [],
   "source": [
    "from dask import distributed"
   ]
  },
  {
   "cell_type": "code",
   "execution_count": 2,
   "id": "02f42271-e3ff-4321-aa90-0605ed1093b1",
   "metadata": {},
   "outputs": [],
   "source": [
    "client = distributed.Client(n_workers=2, threads_per_worker=4)"
   ]
  },
  {
   "cell_type": "code",
   "execution_count": 3,
   "id": "ea9b4900-821a-4eab-9b81-ad53dbc3c344",
   "metadata": {},
   "outputs": [
    {
     "data": {
      "text/plain": [
       "'http://127.0.0.1:8787/status'"
      ]
     },
     "execution_count": 3,
     "metadata": {},
     "output_type": "execute_result"
    }
   ],
   "source": [
    "client.dashboard_link"
   ]
  },
  {
   "cell_type": "code",
   "execution_count": 12,
   "id": "6bb2fe49-1f58-4bf2-8e55-2dda4502cae0",
   "metadata": {},
   "outputs": [],
   "source": [
    "from dask import delayed"
   ]
  },
  {
   "cell_type": "code",
   "execution_count": 7,
   "id": "831d357a-9ee4-437d-aaa4-6bc5be96b8f8",
   "metadata": {},
   "outputs": [],
   "source": [
    "from typing import Iterable, List"
   ]
  },
  {
   "cell_type": "code",
   "execution_count": 8,
   "id": "6ba2d986-1cbd-435c-a7e0-81a02413aae4",
   "metadata": {},
   "outputs": [],
   "source": [
    "def f(vals: Iterable) -> List:\n",
    "    return [((x ** x) / 10) ** 2 for x in vals ]"
   ]
  },
  {
   "cell_type": "code",
   "execution_count": 27,
   "id": "6c310e73-cd5a-4b05-9534-a04ef891bf4b",
   "metadata": {},
   "outputs": [],
   "source": [
    "def f2(vals: Iterable) -> List:\n",
    "    return [((x ** 15) / 10 ** 3) * (2 ** 8) for x in vals ]"
   ]
  },
  {
   "cell_type": "code",
   "execution_count": 9,
   "id": "190086df-afc8-4929-a64e-e43f123d06b1",
   "metadata": {},
   "outputs": [],
   "source": [
    "import numpy as np "
   ]
  },
  {
   "cell_type": "code",
   "execution_count": 10,
   "id": "4bbcaaad-bda3-4f37-9af2-ddfbc026e4ae",
   "metadata": {},
   "outputs": [],
   "source": [
    "ls = np.random.randint(0, 100, size=100)"
   ]
  },
  {
   "cell_type": "code",
   "execution_count": 28,
   "id": "e12cdacf-822f-4dbb-b7d6-ba3e221a7339",
   "metadata": {},
   "outputs": [],
   "source": [
    "ls_comp = delayed(f)(ls)\n",
    "ls_comp2 = delayed(f2)(ls)"
   ]
  },
  {
   "cell_type": "code",
   "execution_count": 29,
   "id": "d463edc4-2c3f-4f6b-ad9b-0167b04e88c3",
   "metadata": {},
   "outputs": [
    {
     "data": {
      "text/plain": [
       "[<Future: pending, key: f-944ab1af-7d11-478a-9a14-a26f9d95f889>,\n",
       " <Future: pending, key: f2-bdeec9d8-14a7-400c-a252-bcbc103af483>]"
      ]
     },
     "execution_count": 29,
     "metadata": {},
     "output_type": "execute_result"
    }
   ],
   "source": [
    "client.compute([ls_comp, ls_comp2])"
   ]
  }
 ],
 "metadata": {
  "kernelspec": {
   "display_name": "Python 3 (ipykernel)",
   "language": "python",
   "name": "python3"
  },
  "language_info": {
   "codemirror_mode": {
    "name": "ipython",
    "version": 3
   },
   "file_extension": ".py",
   "mimetype": "text/x-python",
   "name": "python",
   "nbconvert_exporter": "python",
   "pygments_lexer": "ipython3",
   "version": "3.9.6"
  }
 },
 "nbformat": 4,
 "nbformat_minor": 5
}
