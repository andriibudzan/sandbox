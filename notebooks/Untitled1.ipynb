{
 "cells": [
  {
   "cell_type": "code",
   "execution_count": 1,
   "id": "dfe36a44-54f0-425b-b17d-202a5f29ea69",
   "metadata": {},
   "outputs": [],
   "source": [
    "companies = [\n",
    "    {\"id\":\"c1\", \"name\": \"Big Corp A\", \"parent_id\": None},\n",
    "    {\"id\":\"c2\", \"name\": \"Big Corp B\", \"parent_id\": None},\n",
    "    {\"id\":\"c3\", \"name\": \"Medium Corp A\", \"parent_id\": \"c1\"},\n",
    "    {\"id\":\"c4\", \"name\": \"Medium Corp B\", \"parent_id\": \"c2\"},\n",
    "    {\"id\":\"c5\", \"name\": \"Small Corp A\", \"parent_id\": \"c3\"},\n",
    "    {\"id\":\"c6\", \"name\": \"Small Corp B\", \"parent_id\": \"c3\"}\n",
    "]\n",
    "\n",
    "land_parcels = [\n",
    "    {\"id\": \"l1\", \"company_id\": \"c1\"},\n",
    "    {\"id\": \"l2\", \"company_id\": \"c2\"},\n",
    "    {\"id\": \"l3\", \"company_id\": \"c3\"},\n",
    "    {\"id\": \"l4\", \"company_id\": \"c5\"},\n",
    "    {\"id\": \"l5\", \"company_id\": \"c5\"}\n",
    "]"
   ]
  },
  {
   "cell_type": "code",
   "execution_count": 19,
   "outputs": [
    {
     "name": "stdout",
     "output_type": "stream",
     "text": [
      "[{'id': 'l4', 'company_id': 'c5'}, {'id': 'l5', 'company_id': 'c5'}]\n"
     ]
    }
   ],
   "source": [
    "def get_land_parcels_for_company(company_id):\n",
    "    # company = companies.get(company_id)\n",
    "    print([parsel for parsel in land_parcels if (parsel.get('company_id', {}) == company_id)])\n",
    "    # land_parcels[0].get('company_id')\n",
    "    # return [x.get(company_id) for x in land_parcels]\n",
    "\n",
    "get_land_parcels_for_company('c5')"
   ],
   "metadata": {
    "collapsed": false,
    "pycharm": {
     "name": "#%%\n"
    }
   }
  },
  {
   "cell_type": "code",
   "execution_count": null,
   "outputs": [],
   "source": [],
   "metadata": {
    "collapsed": false,
    "pycharm": {
     "name": "#%%\n"
    }
   }
  },
  {
   "cell_type": "code",
   "execution_count": 49,
   "outputs": [
    {
     "data": {
      "text/plain": "['c1', None, 'c2', None, 'c3', 'c1', 'c4', 'c2', 'c5', 'c3', 'c6', 'c3']"
     },
     "execution_count": 49,
     "metadata": {},
     "output_type": "execute_result"
    }
   ],
   "source": [
    "def get_all_ids():\n",
    "    ids = []\n",
    "    for company in companies:\n",
    "        cid, *_, cparent = company.values()\n",
    "        ids.append(cid)\n",
    "        ids.append(cparent)\n",
    "    return ids\n",
    "\n",
    "get_all_ids()"
   ],
   "metadata": {
    "collapsed": false,
    "pycharm": {
     "name": "#%%\n"
    }
   }
  },
  {
   "cell_type": "code",
   "execution_count": 50,
   "outputs": [],
   "source": [
    "l = list(set(ids))\n",
    "# l.remove(None)"
   ],
   "metadata": {
    "collapsed": false,
    "pycharm": {
     "name": "#%%\n"
    }
   }
  },
  {
   "cell_type": "code",
   "execution_count": null,
   "outputs": [],
   "source": [],
   "metadata": {
    "collapsed": false,
    "pycharm": {
     "name": "#%%\n"
    }
   }
  }
 ],
 "metadata": {
  "kernelspec": {
   "name": "pycharm-8c4202f3",
   "language": "python",
   "display_name": "PyCharm (sandbox)"
  },
  "language_info": {
   "codemirror_mode": {
    "name": "ipython",
    "version": 3
   },
   "file_extension": ".py",
   "mimetype": "text/x-python",
   "name": "python",
   "nbconvert_exporter": "python",
   "pygments_lexer": "ipython3",
   "version": "3.8.5"
  }
 },
 "nbformat": 4,
 "nbformat_minor": 5
}