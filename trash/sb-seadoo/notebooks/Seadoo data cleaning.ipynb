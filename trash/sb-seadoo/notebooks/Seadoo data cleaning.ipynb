{
 "cells": [
  {
   "cell_type": "code",
   "execution_count": 1,
   "metadata": {},
   "outputs": [],
   "source": [
    "import pandas as pd"
   ]
  },
  {
   "cell_type": "code",
   "execution_count": 2,
   "metadata": {},
   "outputs": [],
   "source": [
    "import os \n",
    "os.chdir('D:\\Projects\\web-scrap\\seadoo')"
   ]
  },
  {
   "cell_type": "code",
   "execution_count": 3,
   "metadata": {},
   "outputs": [
    {
     "name": "stdout",
     "output_type": "stream",
     "text": [
      "Wall time: 1min 38s\n"
     ]
    }
   ],
   "source": [
    "%%time\n",
    "df = (\n",
    "    pd.read_excel('seadoo_db_test.xlsx')\n",
    "    .drop(['oemparts', 'producer', '_'], axis=1)\n",
    "     )"
   ]
  },
  {
   "cell_type": "code",
   "execution_count": 68,
   "metadata": {},
   "outputs": [],
   "source": [
    "d2 = df.copy()"
   ]
  },
  {
   "cell_type": "code",
   "execution_count": 5,
   "metadata": {},
   "outputs": [
    {
     "data": {
      "text/html": [
       "<div>\n",
       "<style scoped>\n",
       "    .dataframe tbody tr th:only-of-type {\n",
       "        vertical-align: middle;\n",
       "    }\n",
       "\n",
       "    .dataframe tbody tr th {\n",
       "        vertical-align: top;\n",
       "    }\n",
       "\n",
       "    .dataframe thead th {\n",
       "        text-align: right;\n",
       "    }\n",
       "</style>\n",
       "<table border=\"1\" class=\"dataframe\">\n",
       "  <thead>\n",
       "    <tr style=\"text-align: right;\">\n",
       "      <th></th>\n",
       "      <th>vehicle</th>\n",
       "      <th>year</th>\n",
       "      <th>model</th>\n",
       "      <th>system</th>\n",
       "      <th>ref</th>\n",
       "      <th>name</th>\n",
       "      <th>code</th>\n",
       "      <th>price</th>\n",
       "    </tr>\n",
       "  </thead>\n",
       "  <tbody>\n",
       "    <tr>\n",
       "      <th>0</th>\n",
       "      <td>Boats</td>\n",
       "      <td>1996</td>\n",
       "      <td>Sportster, 5898</td>\n",
       "      <td>Seat Sportster</td>\n",
       "      <td>1</td>\n",
       "      <td>Front Backrest Ass'y (Ocean Reef) Includes 1 to 3</td>\n",
       "      <td>269000379.0</td>\n",
       "      <td>NaN</td>\n",
       "    </tr>\n",
       "    <tr>\n",
       "      <th>1</th>\n",
       "      <td>Boats</td>\n",
       "      <td>1996</td>\n",
       "      <td>Sportster, 5898</td>\n",
       "      <td>Seat Sportster</td>\n",
       "      <td>2</td>\n",
       "      <td>Front Backrest Cover (Ocean Reef)</td>\n",
       "      <td>269000403.0</td>\n",
       "      <td>NaN</td>\n",
       "    </tr>\n",
       "    <tr>\n",
       "      <th>2</th>\n",
       "      <td>Boats</td>\n",
       "      <td>1996</td>\n",
       "      <td>Sportster, 5898</td>\n",
       "      <td>Seat Sportster</td>\n",
       "      <td>3</td>\n",
       "      <td>Front Backrest Foam</td>\n",
       "      <td>NaN</td>\n",
       "      <td>NaN</td>\n",
       "    </tr>\n",
       "    <tr>\n",
       "      <th>3</th>\n",
       "      <td>Boats</td>\n",
       "      <td>1996</td>\n",
       "      <td>Sportster, 5898</td>\n",
       "      <td>Seat Sportster</td>\n",
       "      <td>4</td>\n",
       "      <td>Dart, Black</td>\n",
       "      <td>293730006.0</td>\n",
       "      <td>2.95</td>\n",
       "    </tr>\n",
       "    <tr>\n",
       "      <th>4</th>\n",
       "      <td>Boats</td>\n",
       "      <td>1996</td>\n",
       "      <td>Sportster, 5898</td>\n",
       "      <td>Seat Sportster</td>\n",
       "      <td>5</td>\n",
       "      <td>Front Seat Ass'y Includes 5 to 7</td>\n",
       "      <td>269000381.0</td>\n",
       "      <td>NaN</td>\n",
       "    </tr>\n",
       "  </tbody>\n",
       "</table>\n",
       "</div>"
      ],
      "text/plain": [
       "  vehicle  year            model          system ref  \\\n",
       "0   Boats  1996  Sportster, 5898  Seat Sportster   1   \n",
       "1   Boats  1996  Sportster, 5898  Seat Sportster   2   \n",
       "2   Boats  1996  Sportster, 5898  Seat Sportster   3   \n",
       "3   Boats  1996  Sportster, 5898  Seat Sportster   4   \n",
       "4   Boats  1996  Sportster, 5898  Seat Sportster   5   \n",
       "\n",
       "                                                name         code  price  \n",
       "0  Front Backrest Ass'y (Ocean Reef) Includes 1 to 3  269000379.0    NaN  \n",
       "1                  Front Backrest Cover (Ocean Reef)  269000403.0    NaN  \n",
       "2                                Front Backrest Foam          NaN    NaN  \n",
       "3                                        Dart, Black  293730006.0   2.95  \n",
       "4                   Front Seat Ass'y Includes 5 to 7  269000381.0    NaN  "
      ]
     },
     "execution_count": 5,
     "metadata": {},
     "output_type": "execute_result"
    }
   ],
   "source": [
    "d.head()"
   ]
  },
  {
   "cell_type": "code",
   "execution_count": 40,
   "metadata": {},
   "outputs": [],
   "source": [
    "# some operations on price column\n",
    "d['actual_code'] = ''"
   ]
  },
  {
   "cell_type": "code",
   "execution_count": 41,
   "metadata": {},
   "outputs": [],
   "source": [
    "# actually this is part code numbers! were incorrectly saved during parsing\n",
    "idx = d[d['price'] > 100000000]['price'].index\n",
    "idx2 = d[(d['price'].isna()) | (d['price'] < 100000000)].index\n",
    "d.loc[idx, 'actual_code'] = d.loc[idx, 'price']\n",
    "d.loc[idx2, 'actual_code'] = d.loc[idx2, 'code']"
   ]
  },
  {
   "cell_type": "code",
   "execution_count": 45,
   "metadata": {},
   "outputs": [],
   "source": [
    "d.loc[idx, 'price'] = 0.0"
   ]
  },
  {
   "cell_type": "code",
   "execution_count": 73,
   "metadata": {},
   "outputs": [
    {
     "data": {
      "text/html": [
       "<div>\n",
       "<style scoped>\n",
       "    .dataframe tbody tr th:only-of-type {\n",
       "        vertical-align: middle;\n",
       "    }\n",
       "\n",
       "    .dataframe tbody tr th {\n",
       "        vertical-align: top;\n",
       "    }\n",
       "\n",
       "    .dataframe thead th {\n",
       "        text-align: right;\n",
       "    }\n",
       "</style>\n",
       "<table border=\"1\" class=\"dataframe\">\n",
       "  <thead>\n",
       "    <tr style=\"text-align: right;\">\n",
       "      <th></th>\n",
       "      <th>vehicle</th>\n",
       "      <th>year</th>\n",
       "      <th>model</th>\n",
       "      <th>system</th>\n",
       "      <th>ref</th>\n",
       "      <th>name</th>\n",
       "      <th>code</th>\n",
       "      <th>price</th>\n",
       "      <th>actual_code</th>\n",
       "    </tr>\n",
       "  </thead>\n",
       "  <tbody>\n",
       "    <tr>\n",
       "      <th>0</th>\n",
       "      <td>Boats</td>\n",
       "      <td>1996</td>\n",
       "      <td>Sportster, 5898</td>\n",
       "      <td>Seat Sportster</td>\n",
       "      <td>1</td>\n",
       "      <td>Front Backrest Ass'y (Ocean Reef) Includes 1 to 3</td>\n",
       "      <td>269000379.0</td>\n",
       "      <td>NaN</td>\n",
       "      <td>2.69e+08</td>\n",
       "    </tr>\n",
       "    <tr>\n",
       "      <th>1</th>\n",
       "      <td>Boats</td>\n",
       "      <td>1996</td>\n",
       "      <td>Sportster, 5898</td>\n",
       "      <td>Seat Sportster</td>\n",
       "      <td>2</td>\n",
       "      <td>Front Backrest Cover (Ocean Reef)</td>\n",
       "      <td>269000403.0</td>\n",
       "      <td>NaN</td>\n",
       "      <td>2.69e+08</td>\n",
       "    </tr>\n",
       "    <tr>\n",
       "      <th>2</th>\n",
       "      <td>Boats</td>\n",
       "      <td>1996</td>\n",
       "      <td>Sportster, 5898</td>\n",
       "      <td>Seat Sportster</td>\n",
       "      <td>3</td>\n",
       "      <td>Front Backrest Foam</td>\n",
       "      <td>NaN</td>\n",
       "      <td>NaN</td>\n",
       "      <td>NaN</td>\n",
       "    </tr>\n",
       "    <tr>\n",
       "      <th>3</th>\n",
       "      <td>Boats</td>\n",
       "      <td>1996</td>\n",
       "      <td>Sportster, 5898</td>\n",
       "      <td>Seat Sportster</td>\n",
       "      <td>4</td>\n",
       "      <td>Dart, Black</td>\n",
       "      <td>293730006.0</td>\n",
       "      <td>2.95</td>\n",
       "      <td>2.9373e+08</td>\n",
       "    </tr>\n",
       "    <tr>\n",
       "      <th>4</th>\n",
       "      <td>Boats</td>\n",
       "      <td>1996</td>\n",
       "      <td>Sportster, 5898</td>\n",
       "      <td>Seat Sportster</td>\n",
       "      <td>5</td>\n",
       "      <td>Front Seat Ass'y Includes 5 to 7</td>\n",
       "      <td>269000381.0</td>\n",
       "      <td>NaN</td>\n",
       "      <td>2.69e+08</td>\n",
       "    </tr>\n",
       "    <tr>\n",
       "      <th>...</th>\n",
       "      <td>...</td>\n",
       "      <td>...</td>\n",
       "      <td>...</td>\n",
       "      <td>...</td>\n",
       "      <td>...</td>\n",
       "      <td>...</td>\n",
       "      <td>...</td>\n",
       "      <td>...</td>\n",
       "      <td>...</td>\n",
       "    </tr>\n",
       "    <tr>\n",
       "      <th>611138</th>\n",
       "      <td>Watercraft</td>\n",
       "      <td>2019</td>\n",
       "      <td>FISH PRO</td>\n",
       "      <td>Body</td>\n",
       "      <td>1090</td>\n",
       "      <td>Bumper</td>\n",
       "      <td>291004468.0</td>\n",
       "      <td>71.99</td>\n",
       "      <td>2.91004e+08</td>\n",
       "    </tr>\n",
       "    <tr>\n",
       "      <th>611139</th>\n",
       "      <td>Watercraft</td>\n",
       "      <td>2019</td>\n",
       "      <td>FISH PRO</td>\n",
       "      <td>Body</td>\n",
       "      <td>9000</td>\n",
       "      <td>LH Side Grille Without Sound System</td>\n",
       "      <td>291004455.0</td>\n",
       "      <td>8.19</td>\n",
       "      <td>2.91004e+08</td>\n",
       "    </tr>\n",
       "    <tr>\n",
       "      <th>611140</th>\n",
       "      <td>Watercraft</td>\n",
       "      <td>2019</td>\n",
       "      <td>FISH PRO</td>\n",
       "      <td>Body</td>\n",
       "      <td>9005</td>\n",
       "      <td>Screw Torx M6.81 X 30 Without Sound System</td>\n",
       "      <td>250001007.0</td>\n",
       "      <td>2.95</td>\n",
       "      <td>2.50001e+08</td>\n",
       "    </tr>\n",
       "    <tr>\n",
       "      <th>611141</th>\n",
       "      <td>Watercraft</td>\n",
       "      <td>2019</td>\n",
       "      <td>FISH PRO</td>\n",
       "      <td>Body</td>\n",
       "      <td>9010</td>\n",
       "      <td>RH Side Grille Without Sound System</td>\n",
       "      <td>291004456.0</td>\n",
       "      <td>8.19</td>\n",
       "      <td>2.91004e+08</td>\n",
       "    </tr>\n",
       "    <tr>\n",
       "      <th>611142</th>\n",
       "      <td>Watercraft</td>\n",
       "      <td>2019</td>\n",
       "      <td>FISH PRO</td>\n",
       "      <td>Body</td>\n",
       "      <td>9015</td>\n",
       "      <td>Screw Torx M6.81 X 30 Without Sound System</td>\n",
       "      <td>250001007.0</td>\n",
       "      <td>2.95</td>\n",
       "      <td>2.50001e+08</td>\n",
       "    </tr>\n",
       "  </tbody>\n",
       "</table>\n",
       "<p>525827 rows × 9 columns</p>\n",
       "</div>"
      ],
      "text/plain": [
       "           vehicle  year            model          system   ref  \\\n",
       "0            Boats  1996  Sportster, 5898  Seat Sportster     1   \n",
       "1            Boats  1996  Sportster, 5898  Seat Sportster     2   \n",
       "2            Boats  1996  Sportster, 5898  Seat Sportster     3   \n",
       "3            Boats  1996  Sportster, 5898  Seat Sportster     4   \n",
       "4            Boats  1996  Sportster, 5898  Seat Sportster     5   \n",
       "...            ...   ...              ...             ...   ...   \n",
       "611138  Watercraft  2019         FISH PRO            Body  1090   \n",
       "611139  Watercraft  2019         FISH PRO            Body  9000   \n",
       "611140  Watercraft  2019         FISH PRO            Body  9005   \n",
       "611141  Watercraft  2019         FISH PRO            Body  9010   \n",
       "611142  Watercraft  2019         FISH PRO            Body  9015   \n",
       "\n",
       "                                                     name         code  price  \\\n",
       "0       Front Backrest Ass'y (Ocean Reef) Includes 1 to 3  269000379.0    NaN   \n",
       "1                       Front Backrest Cover (Ocean Reef)  269000403.0    NaN   \n",
       "2                                     Front Backrest Foam          NaN    NaN   \n",
       "3                                             Dart, Black  293730006.0   2.95   \n",
       "4                        Front Seat Ass'y Includes 5 to 7  269000381.0    NaN   \n",
       "...                                                   ...          ...    ...   \n",
       "611138                                             Bumper  291004468.0  71.99   \n",
       "611139                LH Side Grille Without Sound System  291004455.0   8.19   \n",
       "611140         Screw Torx M6.81 X 30 Without Sound System  250001007.0   2.95   \n",
       "611141                RH Side Grille Without Sound System  291004456.0   8.19   \n",
       "611142         Screw Torx M6.81 X 30 Without Sound System  250001007.0   2.95   \n",
       "\n",
       "        actual_code  \n",
       "0          2.69e+08  \n",
       "1          2.69e+08  \n",
       "2               NaN  \n",
       "3        2.9373e+08  \n",
       "4          2.69e+08  \n",
       "...             ...  \n",
       "611138  2.91004e+08  \n",
       "611139  2.91004e+08  \n",
       "611140  2.50001e+08  \n",
       "611141  2.91004e+08  \n",
       "611142  2.50001e+08  \n",
       "\n",
       "[525827 rows x 9 columns]"
      ]
     },
     "execution_count": 73,
     "metadata": {},
     "output_type": "execute_result"
    }
   ],
   "source": [
    "d[d['price'] != 0]"
   ]
  },
  {
   "cell_type": "code",
   "execution_count": 76,
   "metadata": {},
   "outputs": [],
   "source": [
    "x1, x2 = d.iloc[3, -1], d.iloc[3, -3]"
   ]
  },
  {
   "cell_type": "code",
   "execution_count": 86,
   "metadata": {},
   "outputs": [],
   "source": [
    "def col_to_integer(df, col_name):\n",
    "    df.loc[df[col_name].notna(), col_name] = df.loc[df[col_name].notna(), col_name].astype(int)"
   ]
  },
  {
   "cell_type": "code",
   "execution_count": 87,
   "metadata": {},
   "outputs": [],
   "source": [
    "col_to_integer(d, 'code')"
   ]
  },
  {
   "cell_type": "code",
   "execution_count": 101,
   "metadata": {},
   "outputs": [],
   "source": [
    "d.loc[d['code'].notna(), ['code']] = d.loc[d['code'].notna(), ['code']].astype(int)"
   ]
  },
  {
   "cell_type": "code",
   "execution_count": 110,
   "metadata": {},
   "outputs": [],
   "source": [
    "idx3 = d.loc[d['code'].notna()].index"
   ]
  },
  {
   "cell_type": "code",
   "execution_count": 114,
   "metadata": {},
   "outputs": [],
   "source": [
    "d.loc[idx3]['code'] = d.loc[idx3]['code'].astype(int)"
   ]
  },
  {
   "cell_type": "code",
   "execution_count": 119,
   "metadata": {},
   "outputs": [],
   "source": [
    "d['code'] = d['code'].fillna(0).astype(int)"
   ]
  },
  {
   "cell_type": "code",
   "execution_count": 123,
   "metadata": {},
   "outputs": [],
   "source": [
    "d['actual_code'] = d['actual_code'].fillna('')"
   ]
  },
  {
   "cell_type": "code",
   "execution_count": 133,
   "metadata": {},
   "outputs": [
    {
     "data": {
      "text/plain": [
       "291001198400.0"
      ]
     },
     "execution_count": 133,
     "metadata": {},
     "output_type": "execute_result"
    }
   ],
   "source": [
    "d.loc[d['actual_code'] != '']['actual_code'].max()"
   ]
  },
  {
   "cell_type": "code",
   "execution_count": 103,
   "metadata": {},
   "outputs": [
    {
     "data": {
      "text/plain": [
       "0         269000379.0\n",
       "1         269000403.0\n",
       "2                 NaN\n",
       "3         293730006.0\n",
       "4         269000381.0\n",
       "             ...     \n",
       "611138    291004468.0\n",
       "611139    291004455.0\n",
       "611140    250001007.0\n",
       "611141    291004456.0\n",
       "611142    250001007.0\n",
       "Name: code, Length: 611143, dtype: float64"
      ]
     },
     "execution_count": 103,
     "metadata": {},
     "output_type": "execute_result"
    }
   ],
   "source": [
    "d['code']"
   ]
  },
  {
   "cell_type": "code",
   "execution_count": 80,
   "metadata": {},
   "outputs": [
    {
     "data": {
      "text/plain": [
       "0         269000379\n",
       "1         269000403\n",
       "3         293730006\n",
       "4         269000381\n",
       "8         295500402\n",
       "            ...    \n",
       "611138    291004468\n",
       "611139    291004455\n",
       "611140    250001007\n",
       "611141    291004456\n",
       "611142    250001007\n",
       "Name: code, Length: 589760, dtype: int32"
      ]
     },
     "execution_count": 80,
     "metadata": {},
     "output_type": "execute_result"
    }
   ],
   "source": [
    "d[d['code'].notna()]['code'] = d[d['code'].notna()]['code'].astype(int)\n"
   ]
  },
  {
   "cell_type": "code",
   "execution_count": null,
   "metadata": {},
   "outputs": [],
   "source": []
  },
  {
   "cell_type": "code",
   "execution_count": null,
   "metadata": {},
   "outputs": [],
   "source": []
  },
  {
   "cell_type": "code",
   "execution_count": 30,
   "metadata": {},
   "outputs": [
    {
     "data": {
      "text/html": [
       "<div>\n",
       "<style scoped>\n",
       "    .dataframe tbody tr th:only-of-type {\n",
       "        vertical-align: middle;\n",
       "    }\n",
       "\n",
       "    .dataframe tbody tr th {\n",
       "        vertical-align: top;\n",
       "    }\n",
       "\n",
       "    .dataframe thead th {\n",
       "        text-align: right;\n",
       "    }\n",
       "</style>\n",
       "<table border=\"1\" class=\"dataframe\">\n",
       "  <thead>\n",
       "    <tr style=\"text-align: right;\">\n",
       "      <th></th>\n",
       "      <th>code</th>\n",
       "      <th>price</th>\n",
       "      <th>actual_code</th>\n",
       "    </tr>\n",
       "  </thead>\n",
       "  <tbody>\n",
       "    <tr>\n",
       "      <th>0</th>\n",
       "      <td>269000379.0</td>\n",
       "      <td>NaN</td>\n",
       "      <td>2.69e+08</td>\n",
       "    </tr>\n",
       "    <tr>\n",
       "      <th>1</th>\n",
       "      <td>269000403.0</td>\n",
       "      <td>NaN</td>\n",
       "      <td>2.69e+08</td>\n",
       "    </tr>\n",
       "    <tr>\n",
       "      <th>2</th>\n",
       "      <td>NaN</td>\n",
       "      <td>NaN</td>\n",
       "      <td>NaN</td>\n",
       "    </tr>\n",
       "    <tr>\n",
       "      <th>3</th>\n",
       "      <td>293730006.0</td>\n",
       "      <td>2.95</td>\n",
       "      <td>2.9373e+08</td>\n",
       "    </tr>\n",
       "    <tr>\n",
       "      <th>4</th>\n",
       "      <td>269000381.0</td>\n",
       "      <td>NaN</td>\n",
       "      <td>2.69e+08</td>\n",
       "    </tr>\n",
       "    <tr>\n",
       "      <th>...</th>\n",
       "      <td>...</td>\n",
       "      <td>...</td>\n",
       "      <td>...</td>\n",
       "    </tr>\n",
       "    <tr>\n",
       "      <th>611138</th>\n",
       "      <td>291004468.0</td>\n",
       "      <td>71.99</td>\n",
       "      <td>2.91004e+08</td>\n",
       "    </tr>\n",
       "    <tr>\n",
       "      <th>611139</th>\n",
       "      <td>291004455.0</td>\n",
       "      <td>8.19</td>\n",
       "      <td>2.91004e+08</td>\n",
       "    </tr>\n",
       "    <tr>\n",
       "      <th>611140</th>\n",
       "      <td>250001007.0</td>\n",
       "      <td>2.95</td>\n",
       "      <td>2.50001e+08</td>\n",
       "    </tr>\n",
       "    <tr>\n",
       "      <th>611141</th>\n",
       "      <td>291004456.0</td>\n",
       "      <td>8.19</td>\n",
       "      <td>2.91004e+08</td>\n",
       "    </tr>\n",
       "    <tr>\n",
       "      <th>611142</th>\n",
       "      <td>250001007.0</td>\n",
       "      <td>2.95</td>\n",
       "      <td>2.50001e+08</td>\n",
       "    </tr>\n",
       "  </tbody>\n",
       "</table>\n",
       "<p>525827 rows × 3 columns</p>\n",
       "</div>"
      ],
      "text/plain": [
       "               code  price  actual_code\n",
       "0       269000379.0    NaN     2.69e+08\n",
       "1       269000403.0    NaN     2.69e+08\n",
       "2               NaN    NaN          NaN\n",
       "3       293730006.0   2.95   2.9373e+08\n",
       "4       269000381.0    NaN     2.69e+08\n",
       "...             ...    ...          ...\n",
       "611138  291004468.0  71.99  2.91004e+08\n",
       "611139  291004455.0   8.19  2.91004e+08\n",
       "611140  250001007.0   2.95  2.50001e+08\n",
       "611141  291004456.0   8.19  2.91004e+08\n",
       "611142  250001007.0   2.95  2.50001e+08\n",
       "\n",
       "[525827 rows x 3 columns]"
      ]
     },
     "execution_count": 30,
     "metadata": {},
     "output_type": "execute_result"
    }
   ],
   "source": [
    "d[(d['price'].isna()) | (d['price'] < 100000000)][['code', 'price', 'actual_code']]"
   ]
  },
  {
   "cell_type": "code",
   "execution_count": 44,
   "metadata": {},
   "outputs": [
    {
     "data": {
      "text/plain": [
       "0         269000379\n",
       "1         269000403\n",
       "2                 0\n",
       "3         293730006\n",
       "4         269000381\n",
       "            ...    \n",
       "611138    291004468\n",
       "611139    291004455\n",
       "611140    250001007\n",
       "611141    291004456\n",
       "611142    250001007\n",
       "Name: actual_code, Length: 611143, dtype: int32"
      ]
     },
     "execution_count": 44,
     "metadata": {},
     "output_type": "execute_result"
    }
   ],
   "source": [
    "d.actual_code.fillna(0.0).astype(int)"
   ]
  },
  {
   "cell_type": "code",
   "execution_count": 42,
   "metadata": {},
   "outputs": [
    {
     "data": {
      "text/html": [
       "<div>\n",
       "<style scoped>\n",
       "    .dataframe tbody tr th:only-of-type {\n",
       "        vertical-align: middle;\n",
       "    }\n",
       "\n",
       "    .dataframe tbody tr th {\n",
       "        vertical-align: top;\n",
       "    }\n",
       "\n",
       "    .dataframe thead th {\n",
       "        text-align: right;\n",
       "    }\n",
       "</style>\n",
       "<table border=\"1\" class=\"dataframe\">\n",
       "  <thead>\n",
       "    <tr style=\"text-align: right;\">\n",
       "      <th></th>\n",
       "      <th>vehicle</th>\n",
       "      <th>year</th>\n",
       "      <th>model</th>\n",
       "      <th>system</th>\n",
       "      <th>ref</th>\n",
       "      <th>name</th>\n",
       "      <th>code</th>\n",
       "      <th>price</th>\n",
       "      <th>actual_code</th>\n",
       "    </tr>\n",
       "  </thead>\n",
       "  <tbody>\n",
       "  </tbody>\n",
       "</table>\n",
       "</div>"
      ],
      "text/plain": [
       "Empty DataFrame\n",
       "Columns: [vehicle, year, model, system, ref, name, code, price, actual_code]\n",
       "Index: []"
      ]
     },
     "execution_count": 42,
     "metadata": {},
     "output_type": "execute_result"
    }
   ],
   "source": [
    "d[d['actual_code'] == '']"
   ]
  },
  {
   "cell_type": "code",
   "execution_count": 120,
   "metadata": {},
   "outputs": [
    {
     "data": {
      "text/html": [
       "<div>\n",
       "<style scoped>\n",
       "    .dataframe tbody tr th:only-of-type {\n",
       "        vertical-align: middle;\n",
       "    }\n",
       "\n",
       "    .dataframe tbody tr th {\n",
       "        vertical-align: top;\n",
       "    }\n",
       "\n",
       "    .dataframe thead th {\n",
       "        text-align: right;\n",
       "    }\n",
       "</style>\n",
       "<table border=\"1\" class=\"dataframe\">\n",
       "  <thead>\n",
       "    <tr style=\"text-align: right;\">\n",
       "      <th></th>\n",
       "      <th>vehicle</th>\n",
       "      <th>year</th>\n",
       "      <th>model</th>\n",
       "      <th>system</th>\n",
       "      <th>ref</th>\n",
       "      <th>name</th>\n",
       "      <th>code</th>\n",
       "      <th>price</th>\n",
       "      <th>actual_code</th>\n",
       "    </tr>\n",
       "  </thead>\n",
       "  <tbody>\n",
       "    <tr>\n",
       "      <th>0</th>\n",
       "      <td>Boats</td>\n",
       "      <td>1996</td>\n",
       "      <td>Sportster, 5898</td>\n",
       "      <td>Seat Sportster</td>\n",
       "      <td>1</td>\n",
       "      <td>Front Backrest Ass'y (Ocean Reef) Includes 1 to 3</td>\n",
       "      <td>269000379.0</td>\n",
       "      <td>NaN</td>\n",
       "      <td></td>\n",
       "    </tr>\n",
       "    <tr>\n",
       "      <th>1</th>\n",
       "      <td>Boats</td>\n",
       "      <td>1996</td>\n",
       "      <td>Sportster, 5898</td>\n",
       "      <td>Seat Sportster</td>\n",
       "      <td>2</td>\n",
       "      <td>Front Backrest Cover (Ocean Reef)</td>\n",
       "      <td>269000403.0</td>\n",
       "      <td>NaN</td>\n",
       "      <td></td>\n",
       "    </tr>\n",
       "    <tr>\n",
       "      <th>2</th>\n",
       "      <td>Boats</td>\n",
       "      <td>1996</td>\n",
       "      <td>Sportster, 5898</td>\n",
       "      <td>Seat Sportster</td>\n",
       "      <td>3</td>\n",
       "      <td>Front Backrest Foam</td>\n",
       "      <td>NaN</td>\n",
       "      <td>NaN</td>\n",
       "      <td></td>\n",
       "    </tr>\n",
       "    <tr>\n",
       "      <th>4</th>\n",
       "      <td>Boats</td>\n",
       "      <td>1996</td>\n",
       "      <td>Sportster, 5898</td>\n",
       "      <td>Seat Sportster</td>\n",
       "      <td>5</td>\n",
       "      <td>Front Seat Ass'y Includes 5 to 7</td>\n",
       "      <td>269000381.0</td>\n",
       "      <td>NaN</td>\n",
       "      <td></td>\n",
       "    </tr>\n",
       "    <tr>\n",
       "      <th>5</th>\n",
       "      <td>Boats</td>\n",
       "      <td>1996</td>\n",
       "      <td>Sportster, 5898</td>\n",
       "      <td>Seat Sportster</td>\n",
       "      <td>6</td>\n",
       "      <td>Front Seat Cover (White)</td>\n",
       "      <td>NaN</td>\n",
       "      <td>NaN</td>\n",
       "      <td></td>\n",
       "    </tr>\n",
       "    <tr>\n",
       "      <th>...</th>\n",
       "      <td>...</td>\n",
       "      <td>...</td>\n",
       "      <td>...</td>\n",
       "      <td>...</td>\n",
       "      <td>...</td>\n",
       "      <td>...</td>\n",
       "      <td>...</td>\n",
       "      <td>...</td>\n",
       "      <td>...</td>\n",
       "    </tr>\n",
       "    <tr>\n",
       "      <th>610762</th>\n",
       "      <td>Watercraft</td>\n",
       "      <td>2019</td>\n",
       "      <td>FISH PRO</td>\n",
       "      <td>Cylinder Head And Exhaust Manifold</td>\n",
       "      <td>21</td>\n",
       "      <td>Wire Support</td>\n",
       "      <td>NaN</td>\n",
       "      <td>NaN</td>\n",
       "      <td></td>\n",
       "    </tr>\n",
       "    <tr>\n",
       "      <th>610764</th>\n",
       "      <td>Watercraft</td>\n",
       "      <td>2019</td>\n",
       "      <td>FISH PRO</td>\n",
       "      <td>Engine Block</td>\n",
       "      <td>1&gt;10</td>\n",
       "      <td>Cylinder Bloc 1503</td>\n",
       "      <td>420893579.0</td>\n",
       "      <td>NaN</td>\n",
       "      <td></td>\n",
       "    </tr>\n",
       "    <tr>\n",
       "      <th>610800</th>\n",
       "      <td>Watercraft</td>\n",
       "      <td>2019</td>\n",
       "      <td>FISH PRO</td>\n",
       "      <td>Engine Block</td>\n",
       "      <td>37</td>\n",
       "      <td>Engine Long Block, 1503 NA ETC</td>\n",
       "      <td>420150323.0</td>\n",
       "      <td>NaN</td>\n",
       "      <td></td>\n",
       "    </tr>\n",
       "    <tr>\n",
       "      <th>610915</th>\n",
       "      <td>Watercraft</td>\n",
       "      <td>2019</td>\n",
       "      <td>FISH PRO</td>\n",
       "      <td>Engine</td>\n",
       "      <td>2300</td>\n",
       "      <td>Formed Hose</td>\n",
       "      <td>270000808.0</td>\n",
       "      <td>NaN</td>\n",
       "      <td></td>\n",
       "    </tr>\n",
       "    <tr>\n",
       "      <th>611052</th>\n",
       "      <td>Watercraft</td>\n",
       "      <td>2019</td>\n",
       "      <td>FISH PRO</td>\n",
       "      <td>Air Intake Manifold And Throttle Body</td>\n",
       "      <td>9</td>\n",
       "      <td>See Engine Harness</td>\n",
       "      <td>NaN</td>\n",
       "      <td>NaN</td>\n",
       "      <td></td>\n",
       "    </tr>\n",
       "  </tbody>\n",
       "</table>\n",
       "<p>186943 rows × 9 columns</p>\n",
       "</div>"
      ],
      "text/plain": [
       "           vehicle  year            model  \\\n",
       "0            Boats  1996  Sportster, 5898   \n",
       "1            Boats  1996  Sportster, 5898   \n",
       "2            Boats  1996  Sportster, 5898   \n",
       "4            Boats  1996  Sportster, 5898   \n",
       "5            Boats  1996  Sportster, 5898   \n",
       "...            ...   ...              ...   \n",
       "610762  Watercraft  2019         FISH PRO   \n",
       "610764  Watercraft  2019         FISH PRO   \n",
       "610800  Watercraft  2019         FISH PRO   \n",
       "610915  Watercraft  2019         FISH PRO   \n",
       "611052  Watercraft  2019         FISH PRO   \n",
       "\n",
       "                                       system   ref  \\\n",
       "0                              Seat Sportster     1   \n",
       "1                              Seat Sportster     2   \n",
       "2                              Seat Sportster     3   \n",
       "4                              Seat Sportster     5   \n",
       "5                              Seat Sportster     6   \n",
       "...                                       ...   ...   \n",
       "610762     Cylinder Head And Exhaust Manifold    21   \n",
       "610764                           Engine Block  1>10   \n",
       "610800                           Engine Block    37   \n",
       "610915                                 Engine  2300   \n",
       "611052  Air Intake Manifold And Throttle Body     9   \n",
       "\n",
       "                                                     name         code  price  \\\n",
       "0       Front Backrest Ass'y (Ocean Reef) Includes 1 to 3  269000379.0    NaN   \n",
       "1                       Front Backrest Cover (Ocean Reef)  269000403.0    NaN   \n",
       "2                                     Front Backrest Foam          NaN    NaN   \n",
       "4                        Front Seat Ass'y Includes 5 to 7  269000381.0    NaN   \n",
       "5                                Front Seat Cover (White)          NaN    NaN   \n",
       "...                                                   ...          ...    ...   \n",
       "610762                                       Wire Support          NaN    NaN   \n",
       "610764                                 Cylinder Bloc 1503  420893579.0    NaN   \n",
       "610800                     Engine Long Block, 1503 NA ETC  420150323.0    NaN   \n",
       "610915                                        Formed Hose  270000808.0    NaN   \n",
       "611052                                 See Engine Harness          NaN    NaN   \n",
       "\n",
       "       actual_code  \n",
       "0                   \n",
       "1                   \n",
       "2                   \n",
       "4                   \n",
       "5                   \n",
       "...            ...  \n",
       "610762              \n",
       "610764              \n",
       "610800              \n",
       "610915              \n",
       "611052              \n",
       "\n",
       "[186943 rows x 9 columns]"
      ]
     },
     "execution_count": 120,
     "metadata": {},
     "output_type": "execute_result"
    }
   ],
   "source": [
    "d[d['price'].isna()]"
   ]
  },
  {
   "cell_type": "code",
   "execution_count": null,
   "metadata": {},
   "outputs": [],
   "source": []
  },
  {
   "cell_type": "code",
   "execution_count": 100,
   "metadata": {},
   "outputs": [],
   "source": [
    "d.loc[idx2, 'actual_code'] = d.loc[idx2, 'code']"
   ]
  },
  {
   "cell_type": "code",
   "execution_count": 101,
   "metadata": {},
   "outputs": [
    {
     "data": {
      "text/html": [
       "<div>\n",
       "<style scoped>\n",
       "    .dataframe tbody tr th:only-of-type {\n",
       "        vertical-align: middle;\n",
       "    }\n",
       "\n",
       "    .dataframe tbody tr th {\n",
       "        vertical-align: top;\n",
       "    }\n",
       "\n",
       "    .dataframe thead th {\n",
       "        text-align: right;\n",
       "    }\n",
       "</style>\n",
       "<table border=\"1\" class=\"dataframe\">\n",
       "  <thead>\n",
       "    <tr style=\"text-align: right;\">\n",
       "      <th></th>\n",
       "      <th>vehicle</th>\n",
       "      <th>year</th>\n",
       "      <th>model</th>\n",
       "      <th>system</th>\n",
       "      <th>ref</th>\n",
       "      <th>name</th>\n",
       "      <th>code</th>\n",
       "      <th>price</th>\n",
       "      <th>actual_code</th>\n",
       "    </tr>\n",
       "  </thead>\n",
       "  <tbody>\n",
       "    <tr>\n",
       "      <th>0</th>\n",
       "      <td>Boats</td>\n",
       "      <td>1996</td>\n",
       "      <td>Sportster, 5898</td>\n",
       "      <td>Seat Sportster</td>\n",
       "      <td>1</td>\n",
       "      <td>Front Backrest Ass'y (Ocean Reef) Includes 1 to 3</td>\n",
       "      <td>269000379.0</td>\n",
       "      <td>NaN</td>\n",
       "      <td></td>\n",
       "    </tr>\n",
       "    <tr>\n",
       "      <th>1</th>\n",
       "      <td>Boats</td>\n",
       "      <td>1996</td>\n",
       "      <td>Sportster, 5898</td>\n",
       "      <td>Seat Sportster</td>\n",
       "      <td>2</td>\n",
       "      <td>Front Backrest Cover (Ocean Reef)</td>\n",
       "      <td>269000403.0</td>\n",
       "      <td>NaN</td>\n",
       "      <td></td>\n",
       "    </tr>\n",
       "    <tr>\n",
       "      <th>2</th>\n",
       "      <td>Boats</td>\n",
       "      <td>1996</td>\n",
       "      <td>Sportster, 5898</td>\n",
       "      <td>Seat Sportster</td>\n",
       "      <td>3</td>\n",
       "      <td>Front Backrest Foam</td>\n",
       "      <td>NaN</td>\n",
       "      <td>NaN</td>\n",
       "      <td></td>\n",
       "    </tr>\n",
       "    <tr>\n",
       "      <th>3</th>\n",
       "      <td>Boats</td>\n",
       "      <td>1996</td>\n",
       "      <td>Sportster, 5898</td>\n",
       "      <td>Seat Sportster</td>\n",
       "      <td>4</td>\n",
       "      <td>Dart, Black</td>\n",
       "      <td>293730006.0</td>\n",
       "      <td>2.95</td>\n",
       "      <td>2.9373e+08</td>\n",
       "    </tr>\n",
       "    <tr>\n",
       "      <th>4</th>\n",
       "      <td>Boats</td>\n",
       "      <td>1996</td>\n",
       "      <td>Sportster, 5898</td>\n",
       "      <td>Seat Sportster</td>\n",
       "      <td>5</td>\n",
       "      <td>Front Seat Ass'y Includes 5 to 7</td>\n",
       "      <td>269000381.0</td>\n",
       "      <td>NaN</td>\n",
       "      <td></td>\n",
       "    </tr>\n",
       "    <tr>\n",
       "      <th>...</th>\n",
       "      <td>...</td>\n",
       "      <td>...</td>\n",
       "      <td>...</td>\n",
       "      <td>...</td>\n",
       "      <td>...</td>\n",
       "      <td>...</td>\n",
       "      <td>...</td>\n",
       "      <td>...</td>\n",
       "      <td>...</td>\n",
       "    </tr>\n",
       "    <tr>\n",
       "      <th>611138</th>\n",
       "      <td>Watercraft</td>\n",
       "      <td>2019</td>\n",
       "      <td>FISH PRO</td>\n",
       "      <td>Body</td>\n",
       "      <td>1090</td>\n",
       "      <td>Bumper</td>\n",
       "      <td>291004468.0</td>\n",
       "      <td>71.99</td>\n",
       "      <td>2.91004e+08</td>\n",
       "    </tr>\n",
       "    <tr>\n",
       "      <th>611139</th>\n",
       "      <td>Watercraft</td>\n",
       "      <td>2019</td>\n",
       "      <td>FISH PRO</td>\n",
       "      <td>Body</td>\n",
       "      <td>9000</td>\n",
       "      <td>LH Side Grille Without Sound System</td>\n",
       "      <td>291004455.0</td>\n",
       "      <td>8.19</td>\n",
       "      <td>2.91004e+08</td>\n",
       "    </tr>\n",
       "    <tr>\n",
       "      <th>611140</th>\n",
       "      <td>Watercraft</td>\n",
       "      <td>2019</td>\n",
       "      <td>FISH PRO</td>\n",
       "      <td>Body</td>\n",
       "      <td>9005</td>\n",
       "      <td>Screw Torx M6.81 X 30 Without Sound System</td>\n",
       "      <td>250001007.0</td>\n",
       "      <td>2.95</td>\n",
       "      <td>2.50001e+08</td>\n",
       "    </tr>\n",
       "    <tr>\n",
       "      <th>611141</th>\n",
       "      <td>Watercraft</td>\n",
       "      <td>2019</td>\n",
       "      <td>FISH PRO</td>\n",
       "      <td>Body</td>\n",
       "      <td>9010</td>\n",
       "      <td>RH Side Grille Without Sound System</td>\n",
       "      <td>291004456.0</td>\n",
       "      <td>8.19</td>\n",
       "      <td>2.91004e+08</td>\n",
       "    </tr>\n",
       "    <tr>\n",
       "      <th>611142</th>\n",
       "      <td>Watercraft</td>\n",
       "      <td>2019</td>\n",
       "      <td>FISH PRO</td>\n",
       "      <td>Body</td>\n",
       "      <td>9015</td>\n",
       "      <td>Screw Torx M6.81 X 30 Without Sound System</td>\n",
       "      <td>250001007.0</td>\n",
       "      <td>2.95</td>\n",
       "      <td>2.50001e+08</td>\n",
       "    </tr>\n",
       "  </tbody>\n",
       "</table>\n",
       "<p>611143 rows × 9 columns</p>\n",
       "</div>"
      ],
      "text/plain": [
       "           vehicle  year            model          system   ref  \\\n",
       "0            Boats  1996  Sportster, 5898  Seat Sportster     1   \n",
       "1            Boats  1996  Sportster, 5898  Seat Sportster     2   \n",
       "2            Boats  1996  Sportster, 5898  Seat Sportster     3   \n",
       "3            Boats  1996  Sportster, 5898  Seat Sportster     4   \n",
       "4            Boats  1996  Sportster, 5898  Seat Sportster     5   \n",
       "...            ...   ...              ...             ...   ...   \n",
       "611138  Watercraft  2019         FISH PRO            Body  1090   \n",
       "611139  Watercraft  2019         FISH PRO            Body  9000   \n",
       "611140  Watercraft  2019         FISH PRO            Body  9005   \n",
       "611141  Watercraft  2019         FISH PRO            Body  9010   \n",
       "611142  Watercraft  2019         FISH PRO            Body  9015   \n",
       "\n",
       "                                                     name         code  price  \\\n",
       "0       Front Backrest Ass'y (Ocean Reef) Includes 1 to 3  269000379.0    NaN   \n",
       "1                       Front Backrest Cover (Ocean Reef)  269000403.0    NaN   \n",
       "2                                     Front Backrest Foam          NaN    NaN   \n",
       "3                                             Dart, Black  293730006.0   2.95   \n",
       "4                        Front Seat Ass'y Includes 5 to 7  269000381.0    NaN   \n",
       "...                                                   ...          ...    ...   \n",
       "611138                                             Bumper  291004468.0  71.99   \n",
       "611139                LH Side Grille Without Sound System  291004455.0   8.19   \n",
       "611140         Screw Torx M6.81 X 30 Without Sound System  250001007.0   2.95   \n",
       "611141                RH Side Grille Without Sound System  291004456.0   8.19   \n",
       "611142         Screw Torx M6.81 X 30 Without Sound System  250001007.0   2.95   \n",
       "\n",
       "        actual_code  \n",
       "0                    \n",
       "1                    \n",
       "2                    \n",
       "3        2.9373e+08  \n",
       "4                    \n",
       "...             ...  \n",
       "611138  2.91004e+08  \n",
       "611139  2.91004e+08  \n",
       "611140  2.50001e+08  \n",
       "611141  2.91004e+08  \n",
       "611142  2.50001e+08  \n",
       "\n",
       "[611143 rows x 9 columns]"
      ]
     },
     "execution_count": 101,
     "metadata": {},
     "output_type": "execute_result"
    }
   ],
   "source": [
    "d"
   ]
  },
  {
   "cell_type": "code",
   "execution_count": null,
   "metadata": {},
   "outputs": [],
   "source": [
    "d.loc[idx, 'price'] = 0.0"
   ]
  },
  {
   "cell_type": "code",
   "execution_count": 90,
   "metadata": {},
   "outputs": [],
   "source": [
    "idx2 = d[d['price'] < 100000000]['price'].index"
   ]
  },
  {
   "cell_type": "code",
   "execution_count": 91,
   "metadata": {},
   "outputs": [
    {
     "data": {
      "text/html": [
       "<div>\n",
       "<style scoped>\n",
       "    .dataframe tbody tr th:only-of-type {\n",
       "        vertical-align: middle;\n",
       "    }\n",
       "\n",
       "    .dataframe tbody tr th {\n",
       "        vertical-align: top;\n",
       "    }\n",
       "\n",
       "    .dataframe thead th {\n",
       "        text-align: right;\n",
       "    }\n",
       "</style>\n",
       "<table border=\"1\" class=\"dataframe\">\n",
       "  <thead>\n",
       "    <tr style=\"text-align: right;\">\n",
       "      <th></th>\n",
       "      <th>code</th>\n",
       "      <th>price</th>\n",
       "      <th>actual_code</th>\n",
       "    </tr>\n",
       "  </thead>\n",
       "  <tbody>\n",
       "    <tr>\n",
       "      <th>3</th>\n",
       "      <td>293730006.0</td>\n",
       "      <td>2.95</td>\n",
       "      <td></td>\n",
       "    </tr>\n",
       "    <tr>\n",
       "      <th>13</th>\n",
       "      <td>210000005.0</td>\n",
       "      <td>0.00</td>\n",
       "      <td>2.07163e+08</td>\n",
       "    </tr>\n",
       "    <tr>\n",
       "      <th>14</th>\n",
       "      <td>213200007.0</td>\n",
       "      <td>0.00</td>\n",
       "      <td>2.34063e+08</td>\n",
       "    </tr>\n",
       "    <tr>\n",
       "      <th>15</th>\n",
       "      <td>293800015.0</td>\n",
       "      <td>0.00</td>\n",
       "      <td>2.938e+08</td>\n",
       "    </tr>\n",
       "    <tr>\n",
       "      <th>25</th>\n",
       "      <td>293730014.0</td>\n",
       "      <td>2.95</td>\n",
       "      <td></td>\n",
       "    </tr>\n",
       "    <tr>\n",
       "      <th>...</th>\n",
       "      <td>...</td>\n",
       "      <td>...</td>\n",
       "      <td>...</td>\n",
       "    </tr>\n",
       "    <tr>\n",
       "      <th>611138</th>\n",
       "      <td>291004468.0</td>\n",
       "      <td>71.99</td>\n",
       "      <td></td>\n",
       "    </tr>\n",
       "    <tr>\n",
       "      <th>611139</th>\n",
       "      <td>291004455.0</td>\n",
       "      <td>8.19</td>\n",
       "      <td></td>\n",
       "    </tr>\n",
       "    <tr>\n",
       "      <th>611140</th>\n",
       "      <td>250001007.0</td>\n",
       "      <td>2.95</td>\n",
       "      <td></td>\n",
       "    </tr>\n",
       "    <tr>\n",
       "      <th>611141</th>\n",
       "      <td>291004456.0</td>\n",
       "      <td>8.19</td>\n",
       "      <td></td>\n",
       "    </tr>\n",
       "    <tr>\n",
       "      <th>611142</th>\n",
       "      <td>250001007.0</td>\n",
       "      <td>2.95</td>\n",
       "      <td></td>\n",
       "    </tr>\n",
       "  </tbody>\n",
       "</table>\n",
       "<p>424200 rows × 3 columns</p>\n",
       "</div>"
      ],
      "text/plain": [
       "               code  price  actual_code\n",
       "3       293730006.0   2.95             \n",
       "13      210000005.0   0.00  2.07163e+08\n",
       "14      213200007.0   0.00  2.34063e+08\n",
       "15      293800015.0   0.00    2.938e+08\n",
       "25      293730014.0   2.95             \n",
       "...             ...    ...          ...\n",
       "611138  291004468.0  71.99             \n",
       "611139  291004455.0   8.19             \n",
       "611140  250001007.0   2.95             \n",
       "611141  291004456.0   8.19             \n",
       "611142  250001007.0   2.95             \n",
       "\n",
       "[424200 rows x 3 columns]"
      ]
     },
     "execution_count": 91,
     "metadata": {},
     "output_type": "execute_result"
    }
   ],
   "source": [
    "d.loc[idx2, ['code', 'price', 'actual_code']]"
   ]
  },
  {
   "cell_type": "code",
   "execution_count": null,
   "metadata": {},
   "outputs": [],
   "source": []
  },
  {
   "cell_type": "code",
   "execution_count": 72,
   "metadata": {},
   "outputs": [
    {
     "data": {
      "text/html": [
       "<div>\n",
       "<style scoped>\n",
       "    .dataframe tbody tr th:only-of-type {\n",
       "        vertical-align: middle;\n",
       "    }\n",
       "\n",
       "    .dataframe tbody tr th {\n",
       "        vertical-align: top;\n",
       "    }\n",
       "\n",
       "    .dataframe thead th {\n",
       "        text-align: right;\n",
       "    }\n",
       "</style>\n",
       "<table border=\"1\" class=\"dataframe\">\n",
       "  <thead>\n",
       "    <tr style=\"text-align: right;\">\n",
       "      <th></th>\n",
       "      <th>vehicle</th>\n",
       "      <th>year</th>\n",
       "      <th>model</th>\n",
       "      <th>system</th>\n",
       "      <th>ref</th>\n",
       "      <th>name</th>\n",
       "      <th>code</th>\n",
       "      <th>price</th>\n",
       "    </tr>\n",
       "  </thead>\n",
       "  <tbody>\n",
       "    <tr>\n",
       "      <th>0</th>\n",
       "      <td>Boats</td>\n",
       "      <td>1996</td>\n",
       "      <td>Sportster, 5898</td>\n",
       "      <td>Seat Sportster</td>\n",
       "      <td>1</td>\n",
       "      <td>Front Backrest Ass'y (Ocean Reef) Includes 1 to 3</td>\n",
       "      <td>269000379.0</td>\n",
       "      <td>NaN</td>\n",
       "    </tr>\n",
       "    <tr>\n",
       "      <th>1</th>\n",
       "      <td>Boats</td>\n",
       "      <td>1996</td>\n",
       "      <td>Sportster, 5898</td>\n",
       "      <td>Seat Sportster</td>\n",
       "      <td>2</td>\n",
       "      <td>Front Backrest Cover (Ocean Reef)</td>\n",
       "      <td>269000403.0</td>\n",
       "      <td>NaN</td>\n",
       "    </tr>\n",
       "    <tr>\n",
       "      <th>2</th>\n",
       "      <td>Boats</td>\n",
       "      <td>1996</td>\n",
       "      <td>Sportster, 5898</td>\n",
       "      <td>Seat Sportster</td>\n",
       "      <td>3</td>\n",
       "      <td>Front Backrest Foam</td>\n",
       "      <td>NaN</td>\n",
       "      <td>NaN</td>\n",
       "    </tr>\n",
       "    <tr>\n",
       "      <th>4</th>\n",
       "      <td>Boats</td>\n",
       "      <td>1996</td>\n",
       "      <td>Sportster, 5898</td>\n",
       "      <td>Seat Sportster</td>\n",
       "      <td>5</td>\n",
       "      <td>Front Seat Ass'y Includes 5 to 7</td>\n",
       "      <td>269000381.0</td>\n",
       "      <td>NaN</td>\n",
       "    </tr>\n",
       "    <tr>\n",
       "      <th>5</th>\n",
       "      <td>Boats</td>\n",
       "      <td>1996</td>\n",
       "      <td>Sportster, 5898</td>\n",
       "      <td>Seat Sportster</td>\n",
       "      <td>6</td>\n",
       "      <td>Front Seat Cover (White)</td>\n",
       "      <td>NaN</td>\n",
       "      <td>NaN</td>\n",
       "    </tr>\n",
       "    <tr>\n",
       "      <th>...</th>\n",
       "      <td>...</td>\n",
       "      <td>...</td>\n",
       "      <td>...</td>\n",
       "      <td>...</td>\n",
       "      <td>...</td>\n",
       "      <td>...</td>\n",
       "      <td>...</td>\n",
       "      <td>...</td>\n",
       "    </tr>\n",
       "    <tr>\n",
       "      <th>610762</th>\n",
       "      <td>Watercraft</td>\n",
       "      <td>2019</td>\n",
       "      <td>FISH PRO</td>\n",
       "      <td>Cylinder Head And Exhaust Manifold</td>\n",
       "      <td>21</td>\n",
       "      <td>Wire Support</td>\n",
       "      <td>NaN</td>\n",
       "      <td>NaN</td>\n",
       "    </tr>\n",
       "    <tr>\n",
       "      <th>610764</th>\n",
       "      <td>Watercraft</td>\n",
       "      <td>2019</td>\n",
       "      <td>FISH PRO</td>\n",
       "      <td>Engine Block</td>\n",
       "      <td>1&gt;10</td>\n",
       "      <td>Cylinder Bloc 1503</td>\n",
       "      <td>420893579.0</td>\n",
       "      <td>NaN</td>\n",
       "    </tr>\n",
       "    <tr>\n",
       "      <th>610800</th>\n",
       "      <td>Watercraft</td>\n",
       "      <td>2019</td>\n",
       "      <td>FISH PRO</td>\n",
       "      <td>Engine Block</td>\n",
       "      <td>37</td>\n",
       "      <td>Engine Long Block, 1503 NA ETC</td>\n",
       "      <td>420150323.0</td>\n",
       "      <td>NaN</td>\n",
       "    </tr>\n",
       "    <tr>\n",
       "      <th>610915</th>\n",
       "      <td>Watercraft</td>\n",
       "      <td>2019</td>\n",
       "      <td>FISH PRO</td>\n",
       "      <td>Engine</td>\n",
       "      <td>2300</td>\n",
       "      <td>Formed Hose</td>\n",
       "      <td>270000808.0</td>\n",
       "      <td>NaN</td>\n",
       "    </tr>\n",
       "    <tr>\n",
       "      <th>611052</th>\n",
       "      <td>Watercraft</td>\n",
       "      <td>2019</td>\n",
       "      <td>FISH PRO</td>\n",
       "      <td>Air Intake Manifold And Throttle Body</td>\n",
       "      <td>9</td>\n",
       "      <td>See Engine Harness</td>\n",
       "      <td>NaN</td>\n",
       "      <td>NaN</td>\n",
       "    </tr>\n",
       "  </tbody>\n",
       "</table>\n",
       "<p>186943 rows × 8 columns</p>\n",
       "</div>"
      ],
      "text/plain": [
       "           vehicle  year            model  \\\n",
       "0            Boats  1996  Sportster, 5898   \n",
       "1            Boats  1996  Sportster, 5898   \n",
       "2            Boats  1996  Sportster, 5898   \n",
       "4            Boats  1996  Sportster, 5898   \n",
       "5            Boats  1996  Sportster, 5898   \n",
       "...            ...   ...              ...   \n",
       "610762  Watercraft  2019         FISH PRO   \n",
       "610764  Watercraft  2019         FISH PRO   \n",
       "610800  Watercraft  2019         FISH PRO   \n",
       "610915  Watercraft  2019         FISH PRO   \n",
       "611052  Watercraft  2019         FISH PRO   \n",
       "\n",
       "                                       system   ref  \\\n",
       "0                              Seat Sportster     1   \n",
       "1                              Seat Sportster     2   \n",
       "2                              Seat Sportster     3   \n",
       "4                              Seat Sportster     5   \n",
       "5                              Seat Sportster     6   \n",
       "...                                       ...   ...   \n",
       "610762     Cylinder Head And Exhaust Manifold    21   \n",
       "610764                           Engine Block  1>10   \n",
       "610800                           Engine Block    37   \n",
       "610915                                 Engine  2300   \n",
       "611052  Air Intake Manifold And Throttle Body     9   \n",
       "\n",
       "                                                     name         code  price  \n",
       "0       Front Backrest Ass'y (Ocean Reef) Includes 1 to 3  269000379.0    NaN  \n",
       "1                       Front Backrest Cover (Ocean Reef)  269000403.0    NaN  \n",
       "2                                     Front Backrest Foam          NaN    NaN  \n",
       "4                        Front Seat Ass'y Includes 5 to 7  269000381.0    NaN  \n",
       "5                                Front Seat Cover (White)          NaN    NaN  \n",
       "...                                                   ...          ...    ...  \n",
       "610762                                       Wire Support          NaN    NaN  \n",
       "610764                                 Cylinder Bloc 1503  420893579.0    NaN  \n",
       "610800                     Engine Long Block, 1503 NA ETC  420150323.0    NaN  \n",
       "610915                                        Formed Hose  270000808.0    NaN  \n",
       "611052                                 See Engine Harness          NaN    NaN  \n",
       "\n",
       "[186943 rows x 8 columns]"
      ]
     },
     "execution_count": 72,
     "metadata": {},
     "output_type": "execute_result"
    }
   ],
   "source": [
    "d2[d2['price'].isna()]"
   ]
  },
  {
   "cell_type": "code",
   "execution_count": 8,
   "metadata": {},
   "outputs": [],
   "source": [
    "df = df.drop(['oemparts', 'producer', '_'], axis=1)"
   ]
  },
  {
   "cell_type": "code",
   "execution_count": 14,
   "metadata": {},
   "outputs": [],
   "source": [
    "df['combine_code'] = ''"
   ]
  },
  {
   "cell_type": "code",
   "execution_count": 21,
   "metadata": {},
   "outputs": [],
   "source": [
    "df[['price']] = df[['price']].fillna(0.0, axis=0)"
   ]
  },
  {
   "cell_type": "code",
   "execution_count": 44,
   "metadata": {},
   "outputs": [],
   "source": [
    "idx = df[df['price'] > 100000000]['price'].index"
   ]
  },
  {
   "cell_type": "code",
   "execution_count": 56,
   "metadata": {},
   "outputs": [
    {
     "data": {
      "text/html": [
       "<div>\n",
       "<style scoped>\n",
       "    .dataframe tbody tr th:only-of-type {\n",
       "        vertical-align: middle;\n",
       "    }\n",
       "\n",
       "    .dataframe tbody tr th {\n",
       "        vertical-align: top;\n",
       "    }\n",
       "\n",
       "    .dataframe thead th {\n",
       "        text-align: right;\n",
       "    }\n",
       "</style>\n",
       "<table border=\"1\" class=\"dataframe\">\n",
       "  <thead>\n",
       "    <tr style=\"text-align: right;\">\n",
       "      <th></th>\n",
       "      <th>vehicle</th>\n",
       "      <th>year</th>\n",
       "      <th>model</th>\n",
       "      <th>system</th>\n",
       "      <th>ref</th>\n",
       "      <th>name</th>\n",
       "      <th>code</th>\n",
       "      <th>price</th>\n",
       "      <th>combine_code</th>\n",
       "    </tr>\n",
       "  </thead>\n",
       "  <tbody>\n",
       "    <tr>\n",
       "      <th>0</th>\n",
       "      <td>Boats</td>\n",
       "      <td>1996</td>\n",
       "      <td>Sportster, 5898</td>\n",
       "      <td>Seat Sportster</td>\n",
       "      <td>1</td>\n",
       "      <td>Front Backrest Ass'y (Ocean Reef) Includes 1 to 3</td>\n",
       "      <td>269000379.0</td>\n",
       "      <td>0.00</td>\n",
       "      <td></td>\n",
       "    </tr>\n",
       "    <tr>\n",
       "      <th>1</th>\n",
       "      <td>Boats</td>\n",
       "      <td>1996</td>\n",
       "      <td>Sportster, 5898</td>\n",
       "      <td>Seat Sportster</td>\n",
       "      <td>2</td>\n",
       "      <td>Front Backrest Cover (Ocean Reef)</td>\n",
       "      <td>269000403.0</td>\n",
       "      <td>0.00</td>\n",
       "      <td></td>\n",
       "    </tr>\n",
       "    <tr>\n",
       "      <th>2</th>\n",
       "      <td>Boats</td>\n",
       "      <td>1996</td>\n",
       "      <td>Sportster, 5898</td>\n",
       "      <td>Seat Sportster</td>\n",
       "      <td>3</td>\n",
       "      <td>Front Backrest Foam</td>\n",
       "      <td>NaN</td>\n",
       "      <td>0.00</td>\n",
       "      <td></td>\n",
       "    </tr>\n",
       "    <tr>\n",
       "      <th>3</th>\n",
       "      <td>Boats</td>\n",
       "      <td>1996</td>\n",
       "      <td>Sportster, 5898</td>\n",
       "      <td>Seat Sportster</td>\n",
       "      <td>4</td>\n",
       "      <td>Dart, Black</td>\n",
       "      <td>293730006.0</td>\n",
       "      <td>2.95</td>\n",
       "      <td></td>\n",
       "    </tr>\n",
       "    <tr>\n",
       "      <th>4</th>\n",
       "      <td>Boats</td>\n",
       "      <td>1996</td>\n",
       "      <td>Sportster, 5898</td>\n",
       "      <td>Seat Sportster</td>\n",
       "      <td>5</td>\n",
       "      <td>Front Seat Ass'y Includes 5 to 7</td>\n",
       "      <td>269000381.0</td>\n",
       "      <td>0.00</td>\n",
       "      <td></td>\n",
       "    </tr>\n",
       "    <tr>\n",
       "      <th>...</th>\n",
       "      <td>...</td>\n",
       "      <td>...</td>\n",
       "      <td>...</td>\n",
       "      <td>...</td>\n",
       "      <td>...</td>\n",
       "      <td>...</td>\n",
       "      <td>...</td>\n",
       "      <td>...</td>\n",
       "      <td>...</td>\n",
       "    </tr>\n",
       "    <tr>\n",
       "      <th>611138</th>\n",
       "      <td>Watercraft</td>\n",
       "      <td>2019</td>\n",
       "      <td>FISH PRO</td>\n",
       "      <td>Body</td>\n",
       "      <td>1090</td>\n",
       "      <td>Bumper</td>\n",
       "      <td>291004468.0</td>\n",
       "      <td>71.99</td>\n",
       "      <td></td>\n",
       "    </tr>\n",
       "    <tr>\n",
       "      <th>611139</th>\n",
       "      <td>Watercraft</td>\n",
       "      <td>2019</td>\n",
       "      <td>FISH PRO</td>\n",
       "      <td>Body</td>\n",
       "      <td>9000</td>\n",
       "      <td>LH Side Grille Without Sound System</td>\n",
       "      <td>291004455.0</td>\n",
       "      <td>8.19</td>\n",
       "      <td></td>\n",
       "    </tr>\n",
       "    <tr>\n",
       "      <th>611140</th>\n",
       "      <td>Watercraft</td>\n",
       "      <td>2019</td>\n",
       "      <td>FISH PRO</td>\n",
       "      <td>Body</td>\n",
       "      <td>9005</td>\n",
       "      <td>Screw Torx M6.81 X 30 Without Sound System</td>\n",
       "      <td>250001007.0</td>\n",
       "      <td>2.95</td>\n",
       "      <td></td>\n",
       "    </tr>\n",
       "    <tr>\n",
       "      <th>611141</th>\n",
       "      <td>Watercraft</td>\n",
       "      <td>2019</td>\n",
       "      <td>FISH PRO</td>\n",
       "      <td>Body</td>\n",
       "      <td>9010</td>\n",
       "      <td>RH Side Grille Without Sound System</td>\n",
       "      <td>291004456.0</td>\n",
       "      <td>8.19</td>\n",
       "      <td></td>\n",
       "    </tr>\n",
       "    <tr>\n",
       "      <th>611142</th>\n",
       "      <td>Watercraft</td>\n",
       "      <td>2019</td>\n",
       "      <td>FISH PRO</td>\n",
       "      <td>Body</td>\n",
       "      <td>9015</td>\n",
       "      <td>Screw Torx M6.81 X 30 Without Sound System</td>\n",
       "      <td>250001007.0</td>\n",
       "      <td>2.95</td>\n",
       "      <td></td>\n",
       "    </tr>\n",
       "  </tbody>\n",
       "</table>\n",
       "<p>611143 rows × 9 columns</p>\n",
       "</div>"
      ],
      "text/plain": [
       "           vehicle  year            model          system   ref  \\\n",
       "0            Boats  1996  Sportster, 5898  Seat Sportster     1   \n",
       "1            Boats  1996  Sportster, 5898  Seat Sportster     2   \n",
       "2            Boats  1996  Sportster, 5898  Seat Sportster     3   \n",
       "3            Boats  1996  Sportster, 5898  Seat Sportster     4   \n",
       "4            Boats  1996  Sportster, 5898  Seat Sportster     5   \n",
       "...            ...   ...              ...             ...   ...   \n",
       "611138  Watercraft  2019         FISH PRO            Body  1090   \n",
       "611139  Watercraft  2019         FISH PRO            Body  9000   \n",
       "611140  Watercraft  2019         FISH PRO            Body  9005   \n",
       "611141  Watercraft  2019         FISH PRO            Body  9010   \n",
       "611142  Watercraft  2019         FISH PRO            Body  9015   \n",
       "\n",
       "                                                     name         code  price  \\\n",
       "0       Front Backrest Ass'y (Ocean Reef) Includes 1 to 3  269000379.0   0.00   \n",
       "1                       Front Backrest Cover (Ocean Reef)  269000403.0   0.00   \n",
       "2                                     Front Backrest Foam          NaN   0.00   \n",
       "3                                             Dart, Black  293730006.0   2.95   \n",
       "4                        Front Seat Ass'y Includes 5 to 7  269000381.0   0.00   \n",
       "...                                                   ...          ...    ...   \n",
       "611138                                             Bumper  291004468.0  71.99   \n",
       "611139                LH Side Grille Without Sound System  291004455.0   8.19   \n",
       "611140         Screw Torx M6.81 X 30 Without Sound System  250001007.0   2.95   \n",
       "611141                RH Side Grille Without Sound System  291004456.0   8.19   \n",
       "611142         Screw Torx M6.81 X 30 Without Sound System  250001007.0   2.95   \n",
       "\n",
       "       combine_code  \n",
       "0                    \n",
       "1                    \n",
       "2                    \n",
       "3                    \n",
       "4                    \n",
       "...             ...  \n",
       "611138               \n",
       "611139               \n",
       "611140               \n",
       "611141               \n",
       "611142               \n",
       "\n",
       "[611143 rows x 9 columns]"
      ]
     },
     "execution_count": 56,
     "metadata": {},
     "output_type": "execute_result"
    }
   ],
   "source": [
    "df"
   ]
  },
  {
   "cell_type": "code",
   "execution_count": 54,
   "metadata": {},
   "outputs": [
    {
     "data": {
      "text/plain": [
       "0         269000379.0\n",
       "1         269000403.0\n",
       "2                 0.0\n",
       "3         293730006.0\n",
       "4         269000381.0\n",
       "             ...     \n",
       "611138    291004468.0\n",
       "611139    291004455.0\n",
       "611140    250001007.0\n",
       "611141    291004456.0\n",
       "611142    250001007.0\n",
       "Name: code, Length: 611143, dtype: float64"
      ]
     },
     "execution_count": 54,
     "metadata": {},
     "output_type": "execute_result"
    }
   ],
   "source": [
    "df['code'].fillna(0)."
   ]
  },
  {
   "cell_type": "code",
   "execution_count": 48,
   "metadata": {},
   "outputs": [
    {
     "data": {
      "text/plain": [
       "price    2.07163e+08\n",
       "code         2.1e+08\n",
       "Name: 13, dtype: object"
      ]
     },
     "execution_count": 48,
     "metadata": {},
     "output_type": "execute_result"
    }
   ],
   "source": [
    "df.loc[idx[0], ['price', 'code']]"
   ]
  },
  {
   "cell_type": "code",
   "execution_count": 28,
   "metadata": {},
   "outputs": [
    {
     "data": {
      "text/plain": [
       "0         269000379.0\n",
       "1         269000403.0\n",
       "2                 NaN\n",
       "3         293730006.0\n",
       "4         269000381.0\n",
       "             ...     \n",
       "611138    291004468.0\n",
       "611139    291004455.0\n",
       "611140    250001007.0\n",
       "611141    291004456.0\n",
       "611142    250001007.0\n",
       "Name: code, Length: 525827, dtype: float64"
      ]
     },
     "execution_count": 28,
     "metadata": {},
     "output_type": "execute_result"
    }
   ],
   "source": [
    "df[df['price'] < 100000000]['code']"
   ]
  },
  {
   "cell_type": "markdown",
   "metadata": {},
   "source": [
    "Drop columns:\n",
    "    + oemparts\n",
    "    + producer\n",
    "    + _"
   ]
  },
  {
   "cell_type": "code",
   "execution_count": 28,
   "metadata": {},
   "outputs": [],
   "source": [
    "df = df.drop(['oemparts', 'producer', '_'], axis=1)"
   ]
  },
  {
   "cell_type": "code",
   "execution_count": 41,
   "metadata": {},
   "outputs": [
    {
     "data": {
      "text/plain": [
       "0         False\n",
       "1         False\n",
       "2         False\n",
       "3         False\n",
       "4         False\n",
       "          ...  \n",
       "611138    False\n",
       "611139    False\n",
       "611140    False\n",
       "611141    False\n",
       "611142    False\n",
       "Name: price, Length: 611143, dtype: bool"
      ]
     },
     "execution_count": 41,
     "metadata": {},
     "output_type": "execute_result"
    }
   ],
   "source": [
    "df.loc[:, 'price'] > 100000000"
   ]
  },
  {
   "cell_type": "code",
   "execution_count": 30,
   "metadata": {},
   "outputs": [
    {
     "name": "stderr",
     "output_type": "stream",
     "text": [
      "<ipython-input-30-bf27c4d14efc>:1: SettingWithCopyWarning: \n",
      "A value is trying to be set on a copy of a slice from a DataFrame.\n",
      "Try using .loc[row_indexer,col_indexer] = value instead\n",
      "\n",
      "See the caveats in the documentation: https://pandas.pydata.org/pandas-docs/stable/user_guide/indexing.html#returning-a-view-versus-a-copy\n",
      "  df[df['price'] > 100000000]['combine_code'] = df[df['price'] > 100000000]['price']\n",
      "<ipython-input-30-bf27c4d14efc>:2: SettingWithCopyWarning: \n",
      "A value is trying to be set on a copy of a slice from a DataFrame.\n",
      "Try using .loc[row_indexer,col_indexer] = value instead\n",
      "\n",
      "See the caveats in the documentation: https://pandas.pydata.org/pandas-docs/stable/user_guide/indexing.html#returning-a-view-versus-a-copy\n",
      "  df[df['price'] < 100000000]['combine_code'] = df[df['price'] < 100000000]['code']\n"
     ]
    }
   ],
   "source": [
    "df[df['price'] > 100000000]['combine_code'] = df[df['price'] > 100000000]['price']\n",
    "df[df['price'] < 100000000]['combine_code'] = df[df['price'] < 100000000]['code']"
   ]
  },
  {
   "cell_type": "markdown",
   "metadata": {},
   "source": [
    "#### Problem\n",
    "\n",
    "- in cases when part has 2 links in tablerow (old detail lingk and current detail link) and old_code value owerwrtited price value. tbt, then price value not even could be extracted from page layout\n",
    "\n",
    "##### wotmido?\n",
    "\n",
    "- create 'combined_code' => 'code' if price extly price\n",
    "                         => 'price' if price looks like big integer instead of little float(_)\n",
    "- after that we will be abble to drop that values from price colums\n",
    "- for that parts without price, try found price according new combined_column]"
   ]
  },
  {
   "cell_type": "code",
   "execution_count": 40,
   "metadata": {},
   "outputs": [],
   "source": [
    "d = df.copy()"
   ]
  },
  {
   "cell_type": "code",
   "execution_count": 122,
   "metadata": {},
   "outputs": [],
   "source": [
    "d['combined_code'] = d['price'][d['price'] > 100000000]"
   ]
  },
  {
   "cell_type": "code",
   "execution_count": 135,
   "metadata": {},
   "outputs": [
    {
     "data": {
      "text/plain": [
       "269700109.0    1504\n",
       "293800060.0     930\n",
       "293730040.0     720\n",
       "278002895.0     697\n",
       "296000303.0     689\n",
       "               ... \n",
       "275500622.0       1\n",
       "420851740.0       1\n",
       "420845620.0       1\n",
       "420866716.0       1\n",
       "269002981.0       1\n",
       "Name: combined_code, Length: 2355, dtype: int64"
      ]
     },
     "execution_count": 135,
     "metadata": {},
     "output_type": "execute_result"
    }
   ],
   "source": [
    "d['combined_code'].value_counts()"
   ]
  },
  {
   "cell_type": "code",
   "execution_count": 167,
   "metadata": {},
   "outputs": [
    {
     "data": {
      "text/plain": [
       "2        NaN\n",
       "5        NaN\n",
       "6        NaN\n",
       "7        NaN\n",
       "12       NaN\n",
       "          ..\n",
       "609172   NaN\n",
       "609968   NaN\n",
       "609978   NaN\n",
       "610762   NaN\n",
       "611052   NaN\n",
       "Name: price, Length: 21383, dtype: float64"
      ]
     },
     "execution_count": 167,
     "metadata": {},
     "output_type": "execute_result"
    }
   ],
   "source": [
    "    d[['code', 'price', 'combined_code']][d['code'].isna()]['price']"
   ]
  },
  {
   "cell_type": "code",
   "execution_count": 170,
   "metadata": {},
   "outputs": [
    {
     "data": {
      "text/plain": [
       "Index                128\n",
       "vehicle          4889144\n",
       "year             4889144\n",
       "model            4889144\n",
       "system           4889144\n",
       "ref              4889144\n",
       "name             4889144\n",
       "code             4889144\n",
       "price            4889144\n",
       "combined_code    4889144\n",
       "dtype: int64"
      ]
     },
     "execution_count": 170,
     "metadata": {},
     "output_type": "execute_result"
    }
   ],
   "source": [
    "d['']"
   ]
  },
  {
   "cell_type": "code",
   "execution_count": 145,
   "metadata": {},
   "outputs": [],
   "source": [
    "d['combined_code'] = d['code'][(d['price'] < 100000000) | (d['price'].isna())]"
   ]
  },
  {
   "cell_type": "code",
   "execution_count": 151,
   "metadata": {},
   "outputs": [
    {
     "data": {
      "text/plain": [
       "106691"
      ]
     },
     "execution_count": 151,
     "metadata": {},
     "output_type": "execute_result"
    }
   ],
   "source": [
    "sum(d['combined_code'].isna())"
   ]
  },
  {
   "cell_type": "code",
   "execution_count": 115,
   "metadata": {},
   "outputs": [
    {
     "data": {
      "text/plain": [
       "    611143\n",
       "Name: combined_code, dtype: int64"
      ]
     },
     "execution_count": 115,
     "metadata": {},
     "output_type": "execute_result"
    }
   ],
   "source": [
    "d['combined_code'].value_counts()"
   ]
  },
  {
   "cell_type": "code",
   "execution_count": 111,
   "metadata": {},
   "outputs": [],
   "source": [
    "d.loc[ind1][['combined_code']] = d.loc[ind1][['price']]"
   ]
  },
  {
   "cell_type": "code",
   "execution_count": 104,
   "metadata": {},
   "outputs": [
    {
     "data": {
      "text/plain": [
       "    611143\n",
       "Name: combined_code, dtype: int64"
      ]
     },
     "execution_count": 104,
     "metadata": {},
     "output_type": "execute_result"
    }
   ],
   "source": [
    "d['combined_code'].value_counts()"
   ]
  },
  {
   "cell_type": "code",
   "execution_count": 95,
   "metadata": {},
   "outputs": [],
   "source": [
    "ind1 = d[d['price'] > 100000000].index"
   ]
  },
  {
   "cell_type": "code",
   "execution_count": 67,
   "metadata": {},
   "outputs": [
    {
     "data": {
      "text/plain": [
       "13        207162560.0\n",
       "14        234062600.0\n",
       "15        293800060.0\n",
       "32        293800060.0\n",
       "39        208451260.0\n",
       "             ...     \n",
       "610917    293650051.0\n",
       "610918    293650179.0\n",
       "610927    276000099.0\n",
       "610939    276000099.0\n",
       "610943    276000099.0\n",
       "Name: price, Length: 85316, dtype: float64"
      ]
     },
     "execution_count": 67,
     "metadata": {},
     "output_type": "execute_result"
    }
   ],
   "source": [
    "d[d['price'] > 100000000]['price']"
   ]
  },
  {
   "cell_type": "code",
   "execution_count": 58,
   "metadata": {},
   "outputs": [],
   "source": [
    "d['combined_code'] = ''"
   ]
  },
  {
   "cell_type": "code",
   "execution_count": 59,
   "metadata": {},
   "outputs": [
    {
     "ename": "TypeError",
     "evalue": "unsupported operand type(s) for |: 'float' and 'bool'",
     "output_type": "error",
     "traceback": [
      "\u001b[1;31m---------------------------------------------------------------------------\u001b[0m",
      "\u001b[1;31mTypeError\u001b[0m                                 Traceback (most recent call last)",
      "\u001b[1;32mc:\\program files\\python38\\lib\\site-packages\\pandas\\core\\ops\\array_ops.py\u001b[0m in \u001b[0;36mna_logical_op\u001b[1;34m(x, y, op)\u001b[0m\n\u001b[0;32m    260\u001b[0m         \u001b[1;31m#  (xint or xbool) and (yint or bool)\u001b[0m\u001b[1;33m\u001b[0m\u001b[1;33m\u001b[0m\u001b[1;33m\u001b[0m\u001b[0m\n\u001b[1;32m--> 261\u001b[1;33m         \u001b[0mresult\u001b[0m \u001b[1;33m=\u001b[0m \u001b[0mop\u001b[0m\u001b[1;33m(\u001b[0m\u001b[0mx\u001b[0m\u001b[1;33m,\u001b[0m \u001b[0my\u001b[0m\u001b[1;33m)\u001b[0m\u001b[1;33m\u001b[0m\u001b[1;33m\u001b[0m\u001b[0m\n\u001b[0m\u001b[0;32m    262\u001b[0m     \u001b[1;32mexcept\u001b[0m \u001b[0mTypeError\u001b[0m\u001b[1;33m:\u001b[0m\u001b[1;33m\u001b[0m\u001b[1;33m\u001b[0m\u001b[0m\n",
      "\u001b[1;31mTypeError\u001b[0m: unsupported operand type(s) for |: 'float' and 'bool'",
      "\nDuring handling of the above exception, another exception occurred:\n",
      "\u001b[1;31mTypeError\u001b[0m                                 Traceback (most recent call last)",
      "\u001b[1;32m<ipython-input-59-4ec40fb37885>\u001b[0m in \u001b[0;36m<module>\u001b[1;34m\u001b[0m\n\u001b[1;32m----> 1\u001b[1;33m \u001b[0md\u001b[0m\u001b[1;33m[\u001b[0m\u001b[1;34m'combined_code'\u001b[0m\u001b[1;33m]\u001b[0m \u001b[1;33m=\u001b[0m \u001b[1;33m(\u001b[0m\u001b[0md\u001b[0m\u001b[1;33m[\u001b[0m\u001b[0md\u001b[0m\u001b[1;33m[\u001b[0m\u001b[1;34m'price'\u001b[0m\u001b[1;33m]\u001b[0m \u001b[1;33m<\u001b[0m \u001b[1;36m100000000\u001b[0m\u001b[1;33m]\u001b[0m\u001b[1;33m[\u001b[0m\u001b[1;34m'code'\u001b[0m\u001b[1;33m]\u001b[0m\u001b[1;33m)\u001b[0m \u001b[1;33m|\u001b[0m \u001b[1;33m(\u001b[0m\u001b[0md\u001b[0m\u001b[1;33m[\u001b[0m\u001b[0md\u001b[0m\u001b[1;33m[\u001b[0m\u001b[1;34m'price'\u001b[0m\u001b[1;33m]\u001b[0m \u001b[1;33m>\u001b[0m \u001b[1;36m100000000\u001b[0m\u001b[1;33m]\u001b[0m\u001b[1;33m[\u001b[0m\u001b[1;34m'price'\u001b[0m\u001b[1;33m]\u001b[0m\u001b[1;33m)\u001b[0m\u001b[1;33m\u001b[0m\u001b[1;33m\u001b[0m\u001b[0m\n\u001b[0m",
      "\u001b[1;32mc:\\program files\\python38\\lib\\site-packages\\pandas\\core\\ops\\common.py\u001b[0m in \u001b[0;36mnew_method\u001b[1;34m(self, other)\u001b[0m\n\u001b[0;32m     63\u001b[0m         \u001b[0mother\u001b[0m \u001b[1;33m=\u001b[0m \u001b[0mitem_from_zerodim\u001b[0m\u001b[1;33m(\u001b[0m\u001b[0mother\u001b[0m\u001b[1;33m)\u001b[0m\u001b[1;33m\u001b[0m\u001b[1;33m\u001b[0m\u001b[0m\n\u001b[0;32m     64\u001b[0m \u001b[1;33m\u001b[0m\u001b[0m\n\u001b[1;32m---> 65\u001b[1;33m         \u001b[1;32mreturn\u001b[0m \u001b[0mmethod\u001b[0m\u001b[1;33m(\u001b[0m\u001b[0mself\u001b[0m\u001b[1;33m,\u001b[0m \u001b[0mother\u001b[0m\u001b[1;33m)\u001b[0m\u001b[1;33m\u001b[0m\u001b[1;33m\u001b[0m\u001b[0m\n\u001b[0m\u001b[0;32m     66\u001b[0m \u001b[1;33m\u001b[0m\u001b[0m\n\u001b[0;32m     67\u001b[0m     \u001b[1;32mreturn\u001b[0m \u001b[0mnew_method\u001b[0m\u001b[1;33m\u001b[0m\u001b[1;33m\u001b[0m\u001b[0m\n",
      "\u001b[1;32mc:\\program files\\python38\\lib\\site-packages\\pandas\\core\\ops\\__init__.py\u001b[0m in \u001b[0;36mwrapper\u001b[1;34m(self, other)\u001b[0m\n\u001b[0;32m    392\u001b[0m         \u001b[0mrvalues\u001b[0m \u001b[1;33m=\u001b[0m \u001b[0mextract_array\u001b[0m\u001b[1;33m(\u001b[0m\u001b[0mother\u001b[0m\u001b[1;33m,\u001b[0m \u001b[0mextract_numpy\u001b[0m\u001b[1;33m=\u001b[0m\u001b[1;32mTrue\u001b[0m\u001b[1;33m)\u001b[0m\u001b[1;33m\u001b[0m\u001b[1;33m\u001b[0m\u001b[0m\n\u001b[0;32m    393\u001b[0m \u001b[1;33m\u001b[0m\u001b[0m\n\u001b[1;32m--> 394\u001b[1;33m         \u001b[0mres_values\u001b[0m \u001b[1;33m=\u001b[0m \u001b[0mlogical_op\u001b[0m\u001b[1;33m(\u001b[0m\u001b[0mlvalues\u001b[0m\u001b[1;33m,\u001b[0m \u001b[0mrvalues\u001b[0m\u001b[1;33m,\u001b[0m \u001b[0mop\u001b[0m\u001b[1;33m)\u001b[0m\u001b[1;33m\u001b[0m\u001b[1;33m\u001b[0m\u001b[0m\n\u001b[0m\u001b[0;32m    395\u001b[0m         \u001b[1;32mreturn\u001b[0m \u001b[0mself\u001b[0m\u001b[1;33m.\u001b[0m\u001b[0m_construct_result\u001b[0m\u001b[1;33m(\u001b[0m\u001b[0mres_values\u001b[0m\u001b[1;33m,\u001b[0m \u001b[0mname\u001b[0m\u001b[1;33m=\u001b[0m\u001b[0mres_name\u001b[0m\u001b[1;33m)\u001b[0m\u001b[1;33m\u001b[0m\u001b[1;33m\u001b[0m\u001b[0m\n\u001b[0;32m    396\u001b[0m \u001b[1;33m\u001b[0m\u001b[0m\n",
      "\u001b[1;32mc:\\program files\\python38\\lib\\site-packages\\pandas\\core\\ops\\array_ops.py\u001b[0m in \u001b[0;36mlogical_op\u001b[1;34m(left, right, op)\u001b[0m\n\u001b[0;32m    349\u001b[0m         \u001b[0mfiller\u001b[0m \u001b[1;33m=\u001b[0m \u001b[0mfill_int\u001b[0m \u001b[1;32mif\u001b[0m \u001b[0mis_self_int_dtype\u001b[0m \u001b[1;32mand\u001b[0m \u001b[0mis_other_int_dtype\u001b[0m \u001b[1;32melse\u001b[0m \u001b[0mfill_bool\u001b[0m\u001b[1;33m\u001b[0m\u001b[1;33m\u001b[0m\u001b[0m\n\u001b[0;32m    350\u001b[0m \u001b[1;33m\u001b[0m\u001b[0m\n\u001b[1;32m--> 351\u001b[1;33m         \u001b[0mres_values\u001b[0m \u001b[1;33m=\u001b[0m \u001b[0mna_logical_op\u001b[0m\u001b[1;33m(\u001b[0m\u001b[0mlvalues\u001b[0m\u001b[1;33m,\u001b[0m \u001b[0mrvalues\u001b[0m\u001b[1;33m,\u001b[0m \u001b[0mop\u001b[0m\u001b[1;33m)\u001b[0m\u001b[1;33m\u001b[0m\u001b[1;33m\u001b[0m\u001b[0m\n\u001b[0m\u001b[0;32m    352\u001b[0m         \u001b[0mres_values\u001b[0m \u001b[1;33m=\u001b[0m \u001b[0mfiller\u001b[0m\u001b[1;33m(\u001b[0m\u001b[0mres_values\u001b[0m\u001b[1;33m)\u001b[0m  \u001b[1;31m# type: ignore\u001b[0m\u001b[1;33m\u001b[0m\u001b[1;33m\u001b[0m\u001b[0m\n\u001b[0;32m    353\u001b[0m \u001b[1;33m\u001b[0m\u001b[0m\n",
      "\u001b[1;32mc:\\program files\\python38\\lib\\site-packages\\pandas\\core\\ops\\array_ops.py\u001b[0m in \u001b[0;36mna_logical_op\u001b[1;34m(x, y, op)\u001b[0m\n\u001b[0;32m    266\u001b[0m             \u001b[0mx\u001b[0m \u001b[1;33m=\u001b[0m \u001b[0mensure_object\u001b[0m\u001b[1;33m(\u001b[0m\u001b[0mx\u001b[0m\u001b[1;33m)\u001b[0m\u001b[1;33m\u001b[0m\u001b[1;33m\u001b[0m\u001b[0m\n\u001b[0;32m    267\u001b[0m             \u001b[0my\u001b[0m \u001b[1;33m=\u001b[0m \u001b[0mensure_object\u001b[0m\u001b[1;33m(\u001b[0m\u001b[0my\u001b[0m\u001b[1;33m)\u001b[0m\u001b[1;33m\u001b[0m\u001b[1;33m\u001b[0m\u001b[0m\n\u001b[1;32m--> 268\u001b[1;33m             \u001b[0mresult\u001b[0m \u001b[1;33m=\u001b[0m \u001b[0mlibops\u001b[0m\u001b[1;33m.\u001b[0m\u001b[0mvec_binop\u001b[0m\u001b[1;33m(\u001b[0m\u001b[0mx\u001b[0m\u001b[1;33m.\u001b[0m\u001b[0mravel\u001b[0m\u001b[1;33m(\u001b[0m\u001b[1;33m)\u001b[0m\u001b[1;33m,\u001b[0m \u001b[0my\u001b[0m\u001b[1;33m.\u001b[0m\u001b[0mravel\u001b[0m\u001b[1;33m(\u001b[0m\u001b[1;33m)\u001b[0m\u001b[1;33m,\u001b[0m \u001b[0mop\u001b[0m\u001b[1;33m)\u001b[0m\u001b[1;33m\u001b[0m\u001b[1;33m\u001b[0m\u001b[0m\n\u001b[0m\u001b[0;32m    269\u001b[0m         \u001b[1;32melse\u001b[0m\u001b[1;33m:\u001b[0m\u001b[1;33m\u001b[0m\u001b[1;33m\u001b[0m\u001b[0m\n\u001b[0;32m    270\u001b[0m             \u001b[1;31m# let null fall thru\u001b[0m\u001b[1;33m\u001b[0m\u001b[1;33m\u001b[0m\u001b[1;33m\u001b[0m\u001b[0m\n",
      "\u001b[1;32mpandas\\_libs\\ops.pyx\u001b[0m in \u001b[0;36mpandas._libs.ops.vec_binop\u001b[1;34m()\u001b[0m\n",
      "\u001b[1;32mpandas\\_libs\\ops.pyx\u001b[0m in \u001b[0;36mpandas._libs.ops.vec_binop\u001b[1;34m()\u001b[0m\n",
      "\u001b[1;31mTypeError\u001b[0m: unsupported operand type(s) for |: 'float' and 'bool'"
     ]
    }
   ],
   "source": [
    "d['combined_code'] = (d[d['price'] < 100000000]['code']) | (d[d['price'] > 100000000]['price'])"
   ]
  },
  {
   "cell_type": "code",
   "execution_count": 56,
   "metadata": {},
   "outputs": [],
   "source": []
  },
  {
   "cell_type": "code",
   "execution_count": 57,
   "metadata": {},
   "outputs": [
    {
     "data": {
      "text/html": [
       "<div>\n",
       "<style scoped>\n",
       "    .dataframe tbody tr th:only-of-type {\n",
       "        vertical-align: middle;\n",
       "    }\n",
       "\n",
       "    .dataframe tbody tr th {\n",
       "        vertical-align: top;\n",
       "    }\n",
       "\n",
       "    .dataframe thead th {\n",
       "        text-align: right;\n",
       "    }\n",
       "</style>\n",
       "<table border=\"1\" class=\"dataframe\">\n",
       "  <thead>\n",
       "    <tr style=\"text-align: right;\">\n",
       "      <th></th>\n",
       "      <th>vehicle</th>\n",
       "      <th>year</th>\n",
       "      <th>model</th>\n",
       "      <th>system</th>\n",
       "      <th>ref</th>\n",
       "      <th>name</th>\n",
       "      <th>code</th>\n",
       "      <th>price</th>\n",
       "      <th>combined_code</th>\n",
       "    </tr>\n",
       "  </thead>\n",
       "  <tbody>\n",
       "    <tr>\n",
       "      <th>0</th>\n",
       "      <td>Boats</td>\n",
       "      <td>1996</td>\n",
       "      <td>Sportster, 5898</td>\n",
       "      <td>Seat Sportster</td>\n",
       "      <td>1</td>\n",
       "      <td>Front Backrest Ass'y (Ocean Reef) Includes 1 to 3</td>\n",
       "      <td>269000379.0</td>\n",
       "      <td>NaN</td>\n",
       "      <td>NaN</td>\n",
       "    </tr>\n",
       "    <tr>\n",
       "      <th>1</th>\n",
       "      <td>Boats</td>\n",
       "      <td>1996</td>\n",
       "      <td>Sportster, 5898</td>\n",
       "      <td>Seat Sportster</td>\n",
       "      <td>2</td>\n",
       "      <td>Front Backrest Cover (Ocean Reef)</td>\n",
       "      <td>269000403.0</td>\n",
       "      <td>NaN</td>\n",
       "      <td>NaN</td>\n",
       "    </tr>\n",
       "    <tr>\n",
       "      <th>2</th>\n",
       "      <td>Boats</td>\n",
       "      <td>1996</td>\n",
       "      <td>Sportster, 5898</td>\n",
       "      <td>Seat Sportster</td>\n",
       "      <td>3</td>\n",
       "      <td>Front Backrest Foam</td>\n",
       "      <td>NaN</td>\n",
       "      <td>NaN</td>\n",
       "      <td>NaN</td>\n",
       "    </tr>\n",
       "    <tr>\n",
       "      <th>3</th>\n",
       "      <td>Boats</td>\n",
       "      <td>1996</td>\n",
       "      <td>Sportster, 5898</td>\n",
       "      <td>Seat Sportster</td>\n",
       "      <td>4</td>\n",
       "      <td>Dart, Black</td>\n",
       "      <td>293730006.0</td>\n",
       "      <td>2.95</td>\n",
       "      <td>NaN</td>\n",
       "    </tr>\n",
       "    <tr>\n",
       "      <th>4</th>\n",
       "      <td>Boats</td>\n",
       "      <td>1996</td>\n",
       "      <td>Sportster, 5898</td>\n",
       "      <td>Seat Sportster</td>\n",
       "      <td>5</td>\n",
       "      <td>Front Seat Ass'y Includes 5 to 7</td>\n",
       "      <td>269000381.0</td>\n",
       "      <td>NaN</td>\n",
       "      <td>NaN</td>\n",
       "    </tr>\n",
       "    <tr>\n",
       "      <th>...</th>\n",
       "      <td>...</td>\n",
       "      <td>...</td>\n",
       "      <td>...</td>\n",
       "      <td>...</td>\n",
       "      <td>...</td>\n",
       "      <td>...</td>\n",
       "      <td>...</td>\n",
       "      <td>...</td>\n",
       "      <td>...</td>\n",
       "    </tr>\n",
       "    <tr>\n",
       "      <th>611138</th>\n",
       "      <td>Watercraft</td>\n",
       "      <td>2019</td>\n",
       "      <td>FISH PRO</td>\n",
       "      <td>Body</td>\n",
       "      <td>1090</td>\n",
       "      <td>Bumper</td>\n",
       "      <td>291004468.0</td>\n",
       "      <td>71.99</td>\n",
       "      <td>NaN</td>\n",
       "    </tr>\n",
       "    <tr>\n",
       "      <th>611139</th>\n",
       "      <td>Watercraft</td>\n",
       "      <td>2019</td>\n",
       "      <td>FISH PRO</td>\n",
       "      <td>Body</td>\n",
       "      <td>9000</td>\n",
       "      <td>LH Side Grille Without Sound System</td>\n",
       "      <td>291004455.0</td>\n",
       "      <td>8.19</td>\n",
       "      <td>NaN</td>\n",
       "    </tr>\n",
       "    <tr>\n",
       "      <th>611140</th>\n",
       "      <td>Watercraft</td>\n",
       "      <td>2019</td>\n",
       "      <td>FISH PRO</td>\n",
       "      <td>Body</td>\n",
       "      <td>9005</td>\n",
       "      <td>Screw Torx M6.81 X 30 Without Sound System</td>\n",
       "      <td>250001007.0</td>\n",
       "      <td>2.95</td>\n",
       "      <td>NaN</td>\n",
       "    </tr>\n",
       "    <tr>\n",
       "      <th>611141</th>\n",
       "      <td>Watercraft</td>\n",
       "      <td>2019</td>\n",
       "      <td>FISH PRO</td>\n",
       "      <td>Body</td>\n",
       "      <td>9010</td>\n",
       "      <td>RH Side Grille Without Sound System</td>\n",
       "      <td>291004456.0</td>\n",
       "      <td>8.19</td>\n",
       "      <td>NaN</td>\n",
       "    </tr>\n",
       "    <tr>\n",
       "      <th>611142</th>\n",
       "      <td>Watercraft</td>\n",
       "      <td>2019</td>\n",
       "      <td>FISH PRO</td>\n",
       "      <td>Body</td>\n",
       "      <td>9015</td>\n",
       "      <td>Screw Torx M6.81 X 30 Without Sound System</td>\n",
       "      <td>250001007.0</td>\n",
       "      <td>2.95</td>\n",
       "      <td>NaN</td>\n",
       "    </tr>\n",
       "  </tbody>\n",
       "</table>\n",
       "<p>611143 rows × 9 columns</p>\n",
       "</div>"
      ],
      "text/plain": [
       "           vehicle  year            model          system   ref  \\\n",
       "0            Boats  1996  Sportster, 5898  Seat Sportster     1   \n",
       "1            Boats  1996  Sportster, 5898  Seat Sportster     2   \n",
       "2            Boats  1996  Sportster, 5898  Seat Sportster     3   \n",
       "3            Boats  1996  Sportster, 5898  Seat Sportster     4   \n",
       "4            Boats  1996  Sportster, 5898  Seat Sportster     5   \n",
       "...            ...   ...              ...             ...   ...   \n",
       "611138  Watercraft  2019         FISH PRO            Body  1090   \n",
       "611139  Watercraft  2019         FISH PRO            Body  9000   \n",
       "611140  Watercraft  2019         FISH PRO            Body  9005   \n",
       "611141  Watercraft  2019         FISH PRO            Body  9010   \n",
       "611142  Watercraft  2019         FISH PRO            Body  9015   \n",
       "\n",
       "                                                     name         code  price  \\\n",
       "0       Front Backrest Ass'y (Ocean Reef) Includes 1 to 3  269000379.0    NaN   \n",
       "1                       Front Backrest Cover (Ocean Reef)  269000403.0    NaN   \n",
       "2                                     Front Backrest Foam          NaN    NaN   \n",
       "3                                             Dart, Black  293730006.0   2.95   \n",
       "4                        Front Seat Ass'y Includes 5 to 7  269000381.0    NaN   \n",
       "...                                                   ...          ...    ...   \n",
       "611138                                             Bumper  291004468.0  71.99   \n",
       "611139                LH Side Grille Without Sound System  291004455.0   8.19   \n",
       "611140         Screw Torx M6.81 X 30 Without Sound System  250001007.0   2.95   \n",
       "611141                RH Side Grille Without Sound System  291004456.0   8.19   \n",
       "611142         Screw Torx M6.81 X 30 Without Sound System  250001007.0   2.95   \n",
       "\n",
       "        combined_code  \n",
       "0                 NaN  \n",
       "1                 NaN  \n",
       "2                 NaN  \n",
       "3                 NaN  \n",
       "4                 NaN  \n",
       "...               ...  \n",
       "611138            NaN  \n",
       "611139            NaN  \n",
       "611140            NaN  \n",
       "611141            NaN  \n",
       "611142            NaN  \n",
       "\n",
       "[611143 rows x 9 columns]"
      ]
     },
     "execution_count": 57,
     "metadata": {},
     "output_type": "execute_result"
    }
   ],
   "source": [
    "d"
   ]
  },
  {
   "cell_type": "code",
   "execution_count": 46,
   "metadata": {},
   "outputs": [
    {
     "ename": "SyntaxError",
     "evalue": "invalid syntax (<ipython-input-46-00a97e9b5983>, line 1)",
     "output_type": "error",
     "traceback": [
      "\u001b[1;36m  File \u001b[1;32m\"<ipython-input-46-00a97e9b5983>\"\u001b[1;36m, line \u001b[1;32m1\u001b[0m\n\u001b[1;33m    d['price'; 100000099]\u001b[0m\n\u001b[1;37m             ^\u001b[0m\n\u001b[1;31mSyntaxError\u001b[0m\u001b[1;31m:\u001b[0m invalid syntax\n"
     ]
    }
   ],
   "source": [
    "d['price'; 100000099]"
   ]
  },
  {
   "cell_type": "code",
   "execution_count": 43,
   "metadata": {},
   "outputs": [
    {
     "data": {
      "text/plain": [
       "0           NaN\n",
       "1           NaN\n",
       "2           NaN\n",
       "3          2.95\n",
       "4           NaN\n",
       "          ...  \n",
       "611138    71.99\n",
       "611139     8.19\n",
       "611140     2.95\n",
       "611141     8.19\n",
       "611142     2.95\n",
       "Name: price, Length: 611143, dtype: float64"
      ]
     },
     "execution_count": 43,
     "metadata": {},
     "output_type": "execute_result"
    }
   ],
   "source": [
    "df['price']"
   ]
  },
  {
   "cell_type": "code",
   "execution_count": null,
   "metadata": {},
   "outputs": [],
   "source": []
  },
  {
   "cell_type": "code",
   "execution_count": 174,
   "metadata": {},
   "outputs": [
    {
     "data": {
      "text/plain": [
       "Index        128\n",
       "year     4889144\n",
       "dtype: int64"
      ]
     },
     "execution_count": 174,
     "metadata": {},
     "output_type": "execute_result"
    }
   ],
   "source": [
    "d[['year']].memory_usage()"
   ]
  },
  {
   "cell_type": "code",
   "execution_count": 179,
   "metadata": {},
   "outputs": [
    {
     "ename": "TypeError",
     "evalue": "data type 'categorical' not understood",
     "output_type": "error",
     "traceback": [
      "\u001b[1;31m---------------------------------------------------------------------------\u001b[0m",
      "\u001b[1;31mTypeError\u001b[0m                                 Traceback (most recent call last)",
      "\u001b[1;32m<ipython-input-179-1e878a956887>\u001b[0m in \u001b[0;36m<module>\u001b[1;34m\u001b[0m\n\u001b[1;32m----> 1\u001b[1;33m \u001b[0md\u001b[0m\u001b[1;33m[\u001b[0m\u001b[1;34m'year'\u001b[0m\u001b[1;33m]\u001b[0m\u001b[1;33m.\u001b[0m\u001b[0mastype\u001b[0m\u001b[1;33m(\u001b[0m\u001b[1;34m'categorical'\u001b[0m\u001b[1;33m)\u001b[0m\u001b[1;33m\u001b[0m\u001b[1;33m\u001b[0m\u001b[0m\n\u001b[0m",
      "\u001b[1;32mc:\\program files\\python38\\lib\\site-packages\\pandas\\core\\generic.py\u001b[0m in \u001b[0;36mastype\u001b[1;34m(self, dtype, copy, errors)\u001b[0m\n\u001b[0;32m   5535\u001b[0m         \u001b[1;32melse\u001b[0m\u001b[1;33m:\u001b[0m\u001b[1;33m\u001b[0m\u001b[1;33m\u001b[0m\u001b[0m\n\u001b[0;32m   5536\u001b[0m             \u001b[1;31m# else, only a single dtype is given\u001b[0m\u001b[1;33m\u001b[0m\u001b[1;33m\u001b[0m\u001b[1;33m\u001b[0m\u001b[0m\n\u001b[1;32m-> 5537\u001b[1;33m             \u001b[0mnew_data\u001b[0m \u001b[1;33m=\u001b[0m \u001b[0mself\u001b[0m\u001b[1;33m.\u001b[0m\u001b[0m_mgr\u001b[0m\u001b[1;33m.\u001b[0m\u001b[0mastype\u001b[0m\u001b[1;33m(\u001b[0m\u001b[0mdtype\u001b[0m\u001b[1;33m=\u001b[0m\u001b[0mdtype\u001b[0m\u001b[1;33m,\u001b[0m \u001b[0mcopy\u001b[0m\u001b[1;33m=\u001b[0m\u001b[0mcopy\u001b[0m\u001b[1;33m,\u001b[0m \u001b[0merrors\u001b[0m\u001b[1;33m=\u001b[0m\u001b[0merrors\u001b[0m\u001b[1;33m,\u001b[0m\u001b[1;33m)\u001b[0m\u001b[1;33m\u001b[0m\u001b[1;33m\u001b[0m\u001b[0m\n\u001b[0m\u001b[0;32m   5538\u001b[0m             \u001b[1;32mreturn\u001b[0m \u001b[0mself\u001b[0m\u001b[1;33m.\u001b[0m\u001b[0m_constructor\u001b[0m\u001b[1;33m(\u001b[0m\u001b[0mnew_data\u001b[0m\u001b[1;33m)\u001b[0m\u001b[1;33m.\u001b[0m\u001b[0m__finalize__\u001b[0m\u001b[1;33m(\u001b[0m\u001b[0mself\u001b[0m\u001b[1;33m,\u001b[0m \u001b[0mmethod\u001b[0m\u001b[1;33m=\u001b[0m\u001b[1;34m\"astype\"\u001b[0m\u001b[1;33m)\u001b[0m\u001b[1;33m\u001b[0m\u001b[1;33m\u001b[0m\u001b[0m\n\u001b[0;32m   5539\u001b[0m \u001b[1;33m\u001b[0m\u001b[0m\n",
      "\u001b[1;32mc:\\program files\\python38\\lib\\site-packages\\pandas\\core\\internals\\managers.py\u001b[0m in \u001b[0;36mastype\u001b[1;34m(self, dtype, copy, errors)\u001b[0m\n\u001b[0;32m    565\u001b[0m         \u001b[0mself\u001b[0m\u001b[1;33m,\u001b[0m \u001b[0mdtype\u001b[0m\u001b[1;33m,\u001b[0m \u001b[0mcopy\u001b[0m\u001b[1;33m:\u001b[0m \u001b[0mbool\u001b[0m \u001b[1;33m=\u001b[0m \u001b[1;32mFalse\u001b[0m\u001b[1;33m,\u001b[0m \u001b[0merrors\u001b[0m\u001b[1;33m:\u001b[0m \u001b[0mstr\u001b[0m \u001b[1;33m=\u001b[0m \u001b[1;34m\"raise\"\u001b[0m\u001b[1;33m\u001b[0m\u001b[1;33m\u001b[0m\u001b[0m\n\u001b[0;32m    566\u001b[0m     ) -> \"BlockManager\":\n\u001b[1;32m--> 567\u001b[1;33m         \u001b[1;32mreturn\u001b[0m \u001b[0mself\u001b[0m\u001b[1;33m.\u001b[0m\u001b[0mapply\u001b[0m\u001b[1;33m(\u001b[0m\u001b[1;34m\"astype\"\u001b[0m\u001b[1;33m,\u001b[0m \u001b[0mdtype\u001b[0m\u001b[1;33m=\u001b[0m\u001b[0mdtype\u001b[0m\u001b[1;33m,\u001b[0m \u001b[0mcopy\u001b[0m\u001b[1;33m=\u001b[0m\u001b[0mcopy\u001b[0m\u001b[1;33m,\u001b[0m \u001b[0merrors\u001b[0m\u001b[1;33m=\u001b[0m\u001b[0merrors\u001b[0m\u001b[1;33m)\u001b[0m\u001b[1;33m\u001b[0m\u001b[1;33m\u001b[0m\u001b[0m\n\u001b[0m\u001b[0;32m    568\u001b[0m \u001b[1;33m\u001b[0m\u001b[0m\n\u001b[0;32m    569\u001b[0m     def convert(\n",
      "\u001b[1;32mc:\\program files\\python38\\lib\\site-packages\\pandas\\core\\internals\\managers.py\u001b[0m in \u001b[0;36mapply\u001b[1;34m(self, f, align_keys, **kwargs)\u001b[0m\n\u001b[0;32m    394\u001b[0m                 \u001b[0mapplied\u001b[0m \u001b[1;33m=\u001b[0m \u001b[0mb\u001b[0m\u001b[1;33m.\u001b[0m\u001b[0mapply\u001b[0m\u001b[1;33m(\u001b[0m\u001b[0mf\u001b[0m\u001b[1;33m,\u001b[0m \u001b[1;33m**\u001b[0m\u001b[0mkwargs\u001b[0m\u001b[1;33m)\u001b[0m\u001b[1;33m\u001b[0m\u001b[1;33m\u001b[0m\u001b[0m\n\u001b[0;32m    395\u001b[0m             \u001b[1;32melse\u001b[0m\u001b[1;33m:\u001b[0m\u001b[1;33m\u001b[0m\u001b[1;33m\u001b[0m\u001b[0m\n\u001b[1;32m--> 396\u001b[1;33m                 \u001b[0mapplied\u001b[0m \u001b[1;33m=\u001b[0m \u001b[0mgetattr\u001b[0m\u001b[1;33m(\u001b[0m\u001b[0mb\u001b[0m\u001b[1;33m,\u001b[0m \u001b[0mf\u001b[0m\u001b[1;33m)\u001b[0m\u001b[1;33m(\u001b[0m\u001b[1;33m**\u001b[0m\u001b[0mkwargs\u001b[0m\u001b[1;33m)\u001b[0m\u001b[1;33m\u001b[0m\u001b[1;33m\u001b[0m\u001b[0m\n\u001b[0m\u001b[0;32m    397\u001b[0m             \u001b[0mresult_blocks\u001b[0m \u001b[1;33m=\u001b[0m \u001b[0m_extend_blocks\u001b[0m\u001b[1;33m(\u001b[0m\u001b[0mapplied\u001b[0m\u001b[1;33m,\u001b[0m \u001b[0mresult_blocks\u001b[0m\u001b[1;33m)\u001b[0m\u001b[1;33m\u001b[0m\u001b[1;33m\u001b[0m\u001b[0m\n\u001b[0;32m    398\u001b[0m \u001b[1;33m\u001b[0m\u001b[0m\n",
      "\u001b[1;32mc:\\program files\\python38\\lib\\site-packages\\pandas\\core\\internals\\blocks.py\u001b[0m in \u001b[0;36mastype\u001b[1;34m(self, dtype, copy, errors)\u001b[0m\n\u001b[0;32m    546\u001b[0m \u001b[1;33m\u001b[0m\u001b[0m\n\u001b[0;32m    547\u001b[0m         \u001b[1;32mif\u001b[0m \u001b[0mdtype\u001b[0m \u001b[1;32mis\u001b[0m \u001b[1;32mnot\u001b[0m \u001b[1;32mNone\u001b[0m\u001b[1;33m:\u001b[0m\u001b[1;33m\u001b[0m\u001b[1;33m\u001b[0m\u001b[0m\n\u001b[1;32m--> 548\u001b[1;33m             \u001b[0mdtype\u001b[0m \u001b[1;33m=\u001b[0m \u001b[0mpandas_dtype\u001b[0m\u001b[1;33m(\u001b[0m\u001b[0mdtype\u001b[0m\u001b[1;33m)\u001b[0m\u001b[1;33m\u001b[0m\u001b[1;33m\u001b[0m\u001b[0m\n\u001b[0m\u001b[0;32m    549\u001b[0m \u001b[1;33m\u001b[0m\u001b[0m\n\u001b[0;32m    550\u001b[0m         \u001b[1;31m# may need to convert to categorical\u001b[0m\u001b[1;33m\u001b[0m\u001b[1;33m\u001b[0m\u001b[1;33m\u001b[0m\u001b[0m\n",
      "\u001b[1;32mc:\\program files\\python38\\lib\\site-packages\\pandas\\core\\dtypes\\common.py\u001b[0m in \u001b[0;36mpandas_dtype\u001b[1;34m(dtype)\u001b[0m\n\u001b[0;32m   1761\u001b[0m     \u001b[1;31m# raise a consistent TypeError if failed\u001b[0m\u001b[1;33m\u001b[0m\u001b[1;33m\u001b[0m\u001b[1;33m\u001b[0m\u001b[0m\n\u001b[0;32m   1762\u001b[0m     \u001b[1;32mtry\u001b[0m\u001b[1;33m:\u001b[0m\u001b[1;33m\u001b[0m\u001b[1;33m\u001b[0m\u001b[0m\n\u001b[1;32m-> 1763\u001b[1;33m         \u001b[0mnpdtype\u001b[0m \u001b[1;33m=\u001b[0m \u001b[0mnp\u001b[0m\u001b[1;33m.\u001b[0m\u001b[0mdtype\u001b[0m\u001b[1;33m(\u001b[0m\u001b[0mdtype\u001b[0m\u001b[1;33m)\u001b[0m\u001b[1;33m\u001b[0m\u001b[1;33m\u001b[0m\u001b[0m\n\u001b[0m\u001b[0;32m   1764\u001b[0m     \u001b[1;32mexcept\u001b[0m \u001b[0mSyntaxError\u001b[0m \u001b[1;32mas\u001b[0m \u001b[0merr\u001b[0m\u001b[1;33m:\u001b[0m\u001b[1;33m\u001b[0m\u001b[1;33m\u001b[0m\u001b[0m\n\u001b[0;32m   1765\u001b[0m         \u001b[1;31m# np.dtype uses `eval` which can raise SyntaxError\u001b[0m\u001b[1;33m\u001b[0m\u001b[1;33m\u001b[0m\u001b[1;33m\u001b[0m\u001b[0m\n",
      "\u001b[1;31mTypeError\u001b[0m: data type 'categorical' not understood"
     ]
    }
   ],
   "source": [
    "d['year'].astype('categorical')"
   ]
  },
  {
   "cell_type": "code",
   "execution_count": 17,
   "metadata": {},
   "outputs": [
    {
     "data": {
      "text/plain": [
       "OEM Parts    611143\n",
       "Name: oemparts, dtype: int64"
      ]
     },
     "execution_count": 17,
     "metadata": {},
     "output_type": "execute_result"
    }
   ],
   "source": [
    "df['oemparts'].value_counts()"
   ]
  },
  {
   "cell_type": "code",
   "execution_count": 20,
   "metadata": {},
   "outputs": [
    {
     "data": {
      "text/plain": [
       "Sea-Doo    611143\n",
       "Name: producer, dtype: int64"
      ]
     },
     "execution_count": 20,
     "metadata": {},
     "output_type": "execute_result"
    }
   ],
   "source": [
    "df['producer'].value_counts()"
   ]
  },
  {
   "cell_type": "code",
   "execution_count": 22,
   "metadata": {},
   "outputs": [
    {
     "data": {
      "text/plain": [
       "Watercraft    342432\n",
       "Boats         268711\n",
       "Name: vehicle, dtype: int64"
      ]
     },
     "execution_count": 22,
     "metadata": {},
     "output_type": "execute_result"
    }
   ],
   "source": [
    "df['vehicle'].value_counts()"
   ]
  },
  {
   "cell_type": "code",
   "execution_count": 23,
   "metadata": {},
   "outputs": [
    {
     "data": {
      "text/plain": [
       "2012    51761\n",
       "2006    51332\n",
       "2008    40778\n",
       "2009    39470\n",
       "2011    38846\n",
       "2010    34574\n",
       "2007    32973\n",
       "2001    27655\n",
       "2004    25803\n",
       "2005    25462\n",
       "2002    23585\n",
       "2003    22047\n",
       "2000    21767\n",
       "2015    19172\n",
       "1996    18909\n",
       "1998    17696\n",
       "1997    17366\n",
       "1999    16549\n",
       "2019    16491\n",
       "2014    16447\n",
       "2018    16168\n",
       "2013    13801\n",
       "2017    11742\n",
       "2016    10749\n",
       "Name: year, dtype: int64"
      ]
     },
     "execution_count": 23,
     "metadata": {},
     "output_type": "execute_result"
    }
   ],
   "source": [
    "df['year'].value_counts()"
   ]
  },
  {
   "cell_type": "code",
   "execution_count": 24,
   "metadata": {},
   "outputs": [
    {
     "data": {
      "text/plain": [
       "GTX 155                    8660\n",
       "RXT                        7563\n",
       "GTI 130                    7151\n",
       "GTX                        6426\n",
       "WAKE 155                   6360\n",
       "                           ... \n",
       "Speedster, 5443             706\n",
       "Speedster, 5772             686\n",
       "Challenger 1800, 240 ER     686\n",
       "Speedster, 5700             684\n",
       "Speedster 1600, 240 ER      650\n",
       "Name: model, Length: 390, dtype: int64"
      ]
     },
     "execution_count": 24,
     "metadata": {},
     "output_type": "execute_result"
    }
   ],
   "source": [
    "df['model'].value_counts()"
   ]
  },
  {
   "cell_type": "code",
   "execution_count": 25,
   "metadata": {},
   "outputs": [
    {
     "data": {
      "text/plain": [
       "Fuel System                            22770\n",
       "Reverse                                19613\n",
       "Electrical System                      17552\n",
       "Cooling System                         16941\n",
       "Engine Block                           16464\n",
       "                                       ...  \n",
       "Bimini Top SE with Tower                   9\n",
       "Carpet                                     8\n",
       "Supercharger - RXP                         7\n",
       "Ventilation - Model with Suspension        6\n",
       "Pump 35S1419                               2\n",
       "Name: system, Length: 1227, dtype: int64"
      ]
     },
     "execution_count": 25,
     "metadata": {},
     "output_type": "execute_result"
    }
   ],
   "source": [
    "df['system'].value_counts()"
   ]
  }
 ],
 "metadata": {
  "kernelspec": {
   "display_name": "Python 3",
   "language": "python",
   "name": "python3"
  },
  "language_info": {
   "codemirror_mode": {
    "name": "ipython",
    "version": 3
   },
   "file_extension": ".py",
   "mimetype": "text/x-python",
   "name": "python",
   "nbconvert_exporter": "python",
   "pygments_lexer": "ipython3",
   "version": "3.8.5"
  }
 },
 "nbformat": 4,
 "nbformat_minor": 4
}
