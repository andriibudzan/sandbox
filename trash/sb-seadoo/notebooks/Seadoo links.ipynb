{
 "cells": [
  {
   "cell_type": "code",
   "execution_count": 1,
   "metadata": {},
   "outputs": [],
   "source": [
    "import re\n",
    "import os\n",
    "import requests\n",
    "from bs4 import BeautifulSoup\n",
    "from pprint import pprint"
   ]
  },
  {
   "cell_type": "code",
   "execution_count": 2,
   "metadata": {},
   "outputs": [],
   "source": [
    "def get_soup(url):\n",
    "    base_url = 'https://www.seadoopartshouse.com'\n",
    "    if not url.startswith('http'):\n",
    "        url = base_url + url\n",
    "    response = requests.get(url)\n",
    "    soup = BeautifulSoup(response.content)\n",
    "    return soup\n",
    "\n",
    "def find_links(soup, template):\n",
    "    list_of_links = [x.get('href') for x in soup.find_all('a')]\n",
    "    return [x for x in list_of_links if re.fullmatch(template, x)]"
   ]
  },
  {
   "cell_type": "code",
   "execution_count": 3,
   "metadata": {},
   "outputs": [
    {
     "name": "stdout",
     "output_type": "stream",
     "text": [
      "41\n",
      "Wall time: 1.27 s\n"
     ]
    }
   ],
   "source": [
    "%%time\n",
    "base_url = 'https://www.seadoopartshouse.com'\n",
    "p = get_soup(base_url)\n",
    "links_step1 = find_links(p, '.*\\/(oemparts)\\/.\\/(.+)(watercraft|boat)(.*)(\\d{4})\\/(parts)')\n",
    "print(len(links_step1))"
   ]
  },
  {
   "cell_type": "code",
   "execution_count": 4,
   "metadata": {},
   "outputs": [
    {
     "name": "stdout",
     "output_type": "stream",
     "text": [
      "536\n",
      "Wall time: 35.8 s\n"
     ]
    }
   ],
   "source": [
    "%%time\n",
    "links_step2 = []\n",
    "for lnk in links_step1:\n",
    "    p = get_soup(lnk)\n",
    "    links_step2.extend(find_links(p, '.*\\/(oemparts)\\/l?\\/(sea)\\/(.{24})\\/\\d{4}-(.*)'))\n",
    "print(len(links_step2))"
   ]
  },
  {
   "cell_type": "code",
   "execution_count": 5,
   "metadata": {},
   "outputs": [
    {
     "name": "stdout",
     "output_type": "stream",
     "text": [
      "15332\n",
      "Wall time: 8min 9s\n"
     ]
    }
   ],
   "source": [
    "%%time\n",
    "links_step3 = []\n",
    "for lnk in links_step2:\n",
    "    p = get_soup(lnk)\n",
    "    links_step3.extend(find_links(p, '.*\\/(oemparts)\\/.?\\/(sea)\\/(.{24})\\/(.*-?)*'))\n",
    "print(len(links_step3))"
   ]
  },
  {
   "cell_type": "code",
   "execution_count": null,
   "metadata": {},
   "outputs": [],
   "source": []
  },
  {
   "cell_type": "code",
   "execution_count": 19,
   "metadata": {},
   "outputs": [],
   "source": [
    "with open(path + '\\\\urls_vehicle_systems.txt', 'w') as f:\n",
    "    for item in links_step2:\n",
    "        f.write(item + '\\n')"
   ]
  },
  {
   "cell_type": "code",
   "execution_count": 25,
   "metadata": {},
   "outputs": [],
   "source": [
    "import threading"
   ]
  },
  {
   "cell_type": "code",
   "execution_count": 29,
   "metadata": {},
   "outputs": [],
   "source": [
    "import time"
   ]
  },
  {
   "cell_type": "code",
   "execution_count": 30,
   "metadata": {},
   "outputs": [],
   "source": [
    "import random"
   ]
  },
  {
   "cell_type": "code",
   "execution_count": 42,
   "metadata": {},
   "outputs": [
    {
     "data": {
      "text/plain": [
       "0.9120008099764635"
      ]
     },
     "execution_count": 42,
     "metadata": {},
     "output_type": "execute_result"
    }
   ],
   "source": [
    "random.random()"
   ]
  },
  {
   "cell_type": "code",
   "execution_count": 47,
   "metadata": {},
   "outputs": [
    {
     "data": {
      "text/plain": [
       "1.8213186481506778"
      ]
     },
     "execution_count": 47,
     "metadata": {},
     "output_type": "execute_result"
    }
   ],
   "source": [
    "random.uniform(.2, 2.3)"
   ]
  },
  {
   "cell_type": "code",
   "execution_count": 44,
   "metadata": {},
   "outputs": [
    {
     "ename": "TypeError",
     "evalue": "'float' object cannot be interpreted as an integer",
     "output_type": "error",
     "traceback": [
      "\u001b[1;31m---------------------------------------------------------------------------\u001b[0m",
      "\u001b[1;31mTypeError\u001b[0m                                 Traceback (most recent call last)",
      "\u001b[1;32m<ipython-input-44-c48d6e8840c2>\u001b[0m in \u001b[0;36m<module>\u001b[1;34m\u001b[0m\n\u001b[1;32m----> 1\u001b[1;33m \u001b[0mrandom\u001b[0m\u001b[1;33m.\u001b[0m\u001b[0mchoice\u001b[0m\u001b[1;33m(\u001b[0m\u001b[0mrange\u001b[0m\u001b[1;33m(\u001b[0m\u001b[1;36m0.7\u001b[0m\u001b[1;33m,\u001b[0m \u001b[1;36m2\u001b[0m\u001b[1;33m,\u001b[0m \u001b[1;36m.45\u001b[0m\u001b[1;33m)\u001b[0m\u001b[1;33m)\u001b[0m\u001b[1;33m\u001b[0m\u001b[1;33m\u001b[0m\u001b[0m\n\u001b[0m",
      "\u001b[1;31mTypeError\u001b[0m: 'float' object cannot be interpreted as an integer"
     ]
    }
   ],
   "source": [
    "random.choice(range(0.7, 2, .45))"
   ]
  },
  {
   "cell_type": "code",
   "execution_count": 56,
   "metadata": {},
   "outputs": [
    {
     "data": {
      "text/plain": [
       "['/oemparts/l/sea/5c75d7e387a86607cc8f42d2/2019-fish-pro-parts',\n",
       " '/oemparts/l/sea/5c75d79587a86607cc8f4211/2019-gti-130-parts',\n",
       " '/oemparts/l/sea/5c75d79587a86607cc8f4213/2019-gti-130-rental-parts',\n",
       " '/oemparts/l/sea/5c75d79587a86607cc8f4214/2019-gti-155-parts',\n",
       " '/oemparts/l/sea/5c75d79587a86607cc8f4212/2019-gti-90-parts',\n",
       " '/oemparts/l/sea/5c75d7ca87a86607cc8f4272/2019-gtr-230-parts',\n",
       " '/oemparts/l/sea/5c75d7cb87a86607cc8f4278/2019-gtx-155-parts',\n",
       " '/oemparts/l/sea/5c75d7cb87a86607cc8f4279/2019-gtx-230-parts',\n",
       " '/oemparts/l/sea/5c75d7cc87a86607cc8f4282/2019-gtx-300-parts',\n",
       " '/oemparts/l/sea/5c75d7e487a86607cc8f42d7/2019-rxp-300-parts',\n",
       " '/oemparts/l/sea/5c75d7ec87a86607cc8f42ec/2019-rxt-230-parts',\n",
       " '/oemparts/l/sea/5c75d7ed87a86607cc8f42f6/2019-rxt-300-parts',\n",
       " '/oemparts/l/sea/5e1879b687a8661b18e62b0c/2019-sar-155-parts',\n",
       " '/oemparts/l/sea/5c75d7fc87a86607cc8f432e/2019-spark-900-ace-parts',\n",
       " '/oemparts/l/sea/5c75d81587a86607cc8f4383/2019-spark-900-ho-ace-parts',\n",
       " '/oemparts/l/sea/5c75d80187a86607cc8f4341/2019-spark-trixx-parts',\n",
       " '/oemparts/l/sea/5c75d82887a86607cc8f43a4/2019-wake-155-parts',\n",
       " '/oemparts/l/sea/5c75d80387a86607cc8f4349/2019-wake-pro-230-parts',\n",
       " '/oemparts/l/sea/59f3607587a8660f14ae80d4/2018-gti-130-parts',\n",
       " '/oemparts/l/sea/59f3607587a8660f14ae80d2/2018-gti-155-parts',\n",
       " '/oemparts/l/sea/59f3607587a8660f14ae80d3/2018-gti-90-parts',\n",
       " '/oemparts/l/sea/59f3607587a8660f14ae80d5/2018-gtr-230-parts',\n",
       " '/oemparts/l/sea/59f3612187a8660f14ae812d/2018-gts-90-parts',\n",
       " '/oemparts/l/sea/59f3612487a8660f14ae813a/2018-gtx-155-parts',\n",
       " '/oemparts/l/sea/59f3612687a8660f14ae814b/2018-gtx-230-parts',\n",
       " '/oemparts/l/sea/59f3612787a8660f14ae8158/2018-gtx-300-parts',\n",
       " '/oemparts/l/sea/59f3614087a8660f14ae816d/2018-rxp-300-parts',\n",
       " '/oemparts/l/sea/59f361ed87a8660f14ae81b0/2018-rxt-230-parts',\n",
       " '/oemparts/l/sea/59f3623c87a8660f14ae81fb/2018-rxt-300-parts',\n",
       " '/oemparts/l/sea/59f3622887a8660f14ae81d5/2018-spark-900-ace-parts',\n",
       " '/oemparts/l/sea/59f3622e87a8660f14ae81df/2018-spark-900-ho-ace-parts',\n",
       " '/oemparts/l/sea/59f3622f87a8660f14ae81e3/2018-spark-trixx-parts',\n",
       " '/oemparts/l/sea/59f362c887a8660f14ae8238/2018-wake-155-parts',\n",
       " '/oemparts/l/sea/59f362fd87a8660f14ae825f/2018-wake-pro-230-parts',\n",
       " '/oemparts/l/sea/5e397c7887a86609a40cb34d/2018-sar-155-parts',\n",
       " '/oemparts/l/sea/57d1b40787a8661620e8aadb/2017-gti-gtr-gts-parts',\n",
       " '/oemparts/l/sea/57d1b40787a8661620e8aadc/2017-gtx-parts',\n",
       " '/oemparts/l/sea/57d1b40787a8661620e8aada/2017-rxp-parts',\n",
       " '/oemparts/l/sea/57d1b40787a8661620e8aad9/2017-rxt-parts',\n",
       " '/oemparts/l/sea/5e39752c87a8661bf499d8f9/2017-sar-155-parts',\n",
       " '/oemparts/l/sea/57d1b53c87a8661620e8ab73/2017-spark-parts',\n",
       " '/oemparts/l/sea/57d1b64487a8661620e8abd7/2017-wake-parts',\n",
       " '/oemparts/l/sea/57d1b56d87a8661620e8ab8a/2017-wake-pro-parts',\n",
       " '/oemparts/l/sea/561e708887a866142cc7f23a/2016-gti-gtr-gts-parts',\n",
       " '/oemparts/l/sea/561e70dd87a866142cc7f266/2016-gtx-parts',\n",
       " '/oemparts/l/sea/561e717087a866142cc7f2af/2016-rxp-parts',\n",
       " '/oemparts/l/sea/561e71a787a866142cc7f2cb/2016-rxt-parts',\n",
       " '/oemparts/l/sea/57509d6b87a8660a50f5db6d/2016-sar-155-parts',\n",
       " '/oemparts/l/sea/561e71d887a866142cc7f2fb/2016-spark-parts',\n",
       " '/oemparts/l/sea/561e723987a866142cc7f336/2016-wake-parts']"
      ]
     },
     "execution_count": 56,
     "metadata": {},
     "output_type": "execute_result"
    }
   ],
   "source": [
    "links_step2[:50]"
   ]
  },
  {
   "cell_type": "code",
   "execution_count": 58,
   "metadata": {},
   "outputs": [],
   "source": [
    "storage = []\n",
    "links = links_step2[:50].copy()"
   ]
  },
  {
   "cell_type": "code",
   "execution_count": 59,
   "metadata": {},
   "outputs": [],
   "source": [
    "def thread_function(url, storage, name):\n",
    "    print(f'{name} taking  url')\n",
    "#     print(list(url))\n",
    "#     print(list(url)[::-1])\n",
    "#     print(list(url)[::2])\n",
    "#     print(list(url)[::1])\n",
    "    res = f'url {1} from the end: {url[::-1]}'\n",
    "#     time.sleep(random.uniform(.7, 2.3))\n",
    "    storage.append(res)\n",
    "    print(f'url {name} added to storage')\n",
    "    print(f'in storage: {len(storage)} links')\n",
    "    print(f'{name} done with {name}')"
   ]
  },
  {
   "cell_type": "code",
   "execution_count": 60,
   "metadata": {
    "collapsed": true
   },
   "outputs": [
    {
     "name": "stdout",
     "output_type": "stream",
     "text": [
      "1 taking  url\n",
      "url 1 added to storage\n",
      "in storage: 1 links\n",
      "1 done with 1\n",
      "2 taking  url\n",
      "url 2 added to storage\n",
      "in storage: 2 links\n",
      "2 done with 2\n",
      "3 taking  url\n",
      "url 3 added to storage\n",
      "in storage: 3 links\n",
      "3 done with 3\n",
      "4 taking  url\n",
      "url 4 added to storage\n",
      "in storage: 4 links\n",
      "4 done with 4\n",
      "5 taking  url\n",
      "url 5 added to storage\n",
      "in storage: 5 links\n",
      "5 done with 5\n",
      "1 taking  url\n",
      "url 1 added to storage\n",
      "in storage: 6 links\n",
      "1 done with 1\n",
      "2 taking  url\n",
      "url 2 added to storage\n",
      "in storage: 7 links\n",
      "2 done with 2\n",
      "3 taking  url\n",
      "url 3 added to storage\n",
      "in storage: 8 links\n",
      "3 done with 3\n",
      "4 taking  url\n",
      "url 4 added to storage\n",
      "in storage: 9 links\n",
      "4 done with 4\n",
      "5 taking  url\n",
      "url 5 added to storage\n",
      "in storage: 10 links\n",
      "5 done with 5\n",
      "1 taking  url\n",
      "url 1 added to storage\n",
      "in storage: 11 links\n",
      "1 done with 1\n",
      "2 taking  url\n",
      "url 2 added to storage\n",
      "in storage: 12 links\n",
      "2 done with 2\n",
      "3 taking  url\n",
      "url 3 added to storage\n",
      "in storage: 13 links\n",
      "3 done with 3\n",
      "4 taking  url\n",
      "url 4 added to storage\n",
      "in storage: 14 links\n",
      "4 done with 4\n",
      "5 taking  url\n",
      "url 5 added to storage\n",
      "in storage: 15 links\n",
      "5 done with 5\n",
      "1 taking  url\n",
      "url 1 added to storage\n",
      "in storage: 16 links\n",
      "1 done with 1\n",
      "2 taking  url\n",
      "url 2 added to storage\n",
      "in storage: 17 links\n",
      "2 done with 2\n",
      "3 taking  url\n",
      "url 3 added to storage\n",
      "in storage: 18 links\n",
      "3 done with 3\n",
      "4 taking  url\n",
      "url 4 added to storage\n",
      "in storage: 19 links\n",
      "4 done with 4\n",
      "5 taking  url\n",
      "url 5 added to storage\n",
      "in storage: 20 links\n",
      "5 done with 5\n",
      "1 taking  url\n",
      "url 1 added to storage\n",
      "in storage: 21 links\n",
      "1 done with 1\n",
      "2 taking  url\n",
      "url 2 added to storage\n",
      "in storage: 22 links\n",
      "2 done with 2\n",
      "3 taking  url\n",
      "url 3 added to storage\n",
      "in storage: 23 links\n",
      "3 done with 3\n",
      "4 taking  url\n",
      "url 4 added to storage\n",
      "in storage: 24 links\n",
      "4 done with 4\n",
      "5 taking  url\n",
      "url 5 added to storage\n",
      "in storage: 25 links\n",
      "5 done with 5\n",
      "1 taking  url\n",
      "url 1 added to storage\n",
      "in storage: 26 links\n",
      "1 done with 1\n",
      "2 taking  url\n",
      "url 2 added to storage\n",
      "in storage: 27 links\n",
      "2 done with 2\n",
      "3 taking  url\n",
      "url 3 added to storage\n",
      "in storage: 28 links\n",
      "3 done with 3\n",
      "4 taking  url\n",
      "url 4 added to storage\n",
      "in storage: 29 links\n",
      "4 done with 4\n",
      "5 taking  url\n",
      "url 5 added to storage\n",
      "in storage: 30 links\n",
      "5 done with 5\n",
      "1 taking  url\n",
      "url 1 added to storage\n",
      "in storage: 31 links\n",
      "1 done with 1\n",
      "2 taking  url\n",
      "url 2 added to storage\n",
      "in storage: 32 links\n",
      "2 done with 2\n",
      "3 taking  url\n",
      "url 3 added to storage\n",
      "in storage: 33 links\n",
      "3 done with 3\n",
      "4 taking  url\n",
      "url 4 added to storage\n",
      "in storage: 34 links\n",
      "4 done with 4\n",
      "5 taking  url\n",
      "url 5 added to storage\n",
      "in storage: 35 links\n",
      "5 done with 5\n",
      "1 taking  url\n",
      "url 1 added to storage\n",
      "in storage: 36 links\n",
      "1 done with 1\n",
      "2 taking  url\n",
      "url 2 added to storage\n",
      "in storage: 37 links\n",
      "2 done with 2\n",
      "3 taking  url\n",
      "url 3 added to storage\n",
      "in storage: 38 links\n",
      "3 done with 3\n",
      "4 taking  url\n",
      "url 4 added to storage\n",
      "in storage: 39 links\n",
      "4 done with 4\n",
      "5 taking  url\n",
      "url 5 added to storage\n",
      "in storage: 40 links\n",
      "5 done with 5\n",
      "1 taking  url\n",
      "url 1 added to storage\n",
      "in storage: 41 links\n",
      "1 done with 1\n",
      "2 taking  url\n",
      "url 2 added to storage\n",
      "in storage: 42 links\n",
      "2 done with 2\n",
      "3 taking  url\n",
      "url 3 added to storage\n",
      "in storage: 43 links\n",
      "3 done with 3\n",
      "4 taking  url\n",
      "url 4 added to storage\n",
      "in storage: 44 links\n",
      "4 done with 4\n",
      "5 taking  url\n",
      "url 5 added to storage\n",
      "in storage: 45 links\n",
      "5 done with 5\n",
      "1 taking  url\n",
      "url 1 added to storage\n",
      "in storage: 46 links\n",
      "1 done with 1\n",
      "2 taking  url\n",
      "url 2 added to storage\n",
      "in storage: 47 links\n",
      "2 done with 2\n",
      "3 taking  url\n",
      "url 3 added to storage\n",
      "in storage: 48 links\n",
      "3 done with 3\n",
      "4 taking  url\n",
      "url 4 added to storage\n",
      "in storage: 49 links\n",
      "4 done with 4\n",
      "5 taking  url\n",
      "url 5 added to storage\n",
      "in storage: 50 links\n",
      "5 done with 5\n"
     ]
    }
   ],
   "source": [
    "threads = list()\n",
    "while links:\n",
    "    for i in range(5):\n",
    "        x = threading.Thread(target=thread_function, args=(links.pop(), storage, i+1,))\n",
    "        threads.append(x)\n",
    "        x.start()\n",
    "        x.join()\n",
    "    \n",
    "# for x, thread in enumerate(threads):\n",
    "#     threads.join()\n",
    "#     print(f'{index} works')"
   ]
  },
  {
   "cell_type": "code",
   "execution_count": 61,
   "metadata": {},
   "outputs": [
    {
     "data": {
      "text/plain": [
       "['url 1 from the end: strap-ekaw-6102/633f7cc241668a789327e165/aes/l/strapmeo/',\n",
       " 'url 1 from the end: strap-kraps-6102/bf2f7cc241668a788d17e165/aes/l/strapmeo/',\n",
       " 'url 1 from the end: strap-551-ras-6102/d6bd5f05a0668a78b6d90575/aes/l/strapmeo/',\n",
       " 'url 1 from the end: strap-txr-6102/bc2f7cc241668a787a17e165/aes/l/strapmeo/',\n",
       " 'url 1 from the end: strap-pxr-6102/fa2f7cc241668a780717e165/aes/l/strapmeo/',\n",
       " 'url 1 from the end: strap-xtg-6102/662f7cc241668a78dd07e165/aes/l/strapmeo/',\n",
       " 'url 1 from the end: strap-stg-rtg-itg-6102/a32f7cc241668a788807e165/aes/l/strapmeo/',\n",
       " 'url 1 from the end: strap-orp-ekaw-7102/a8ba8e0261668a78d65b1d75/aes/l/strapmeo/',\n",
       " 'url 1 from the end: strap-ekaw-7102/7dba8e0261668a78446b1d75/aes/l/strapmeo/',\n",
       " 'url 1 from the end: strap-kraps-7102/37ba8e0261668a78c35b1d75/aes/l/strapmeo/',\n",
       " 'url 1 from the end: strap-551-ras-7102/9f8d994fb1668a78c25793e5/aes/l/strapmeo/',\n",
       " 'url 1 from the end: strap-txr-7102/9daa8e0261668a78704b1d75/aes/l/strapmeo/',\n",
       " 'url 1 from the end: strap-pxr-7102/adaa8e0261668a78704b1d75/aes/l/strapmeo/',\n",
       " 'url 1 from the end: strap-xtg-7102/cdaa8e0261668a78704b1d75/aes/l/strapmeo/',\n",
       " 'url 1 from the end: strap-stg-rtg-itg-7102/bdaa8e0261668a78704b1d75/aes/l/strapmeo/',\n",
       " 'url 1 from the end: strap-551-ras-8102/d43bc04a90668a7887c793e5/aes/l/strapmeo/',\n",
       " 'url 1 from the end: strap-032-orp-ekaw-8102/f528ea41f0668a78df263f95/aes/l/strapmeo/',\n",
       " 'url 1 from the end: strap-551-ekaw-8102/8328ea41f0668a788c263f95/aes/l/strapmeo/',\n",
       " 'url 1 from the end: strap-xxirt-kraps-8102/3e18ea41f0668a78f2263f95/aes/l/strapmeo/',\n",
       " 'url 1 from the end: strap-eca-oh-009-kraps-8102/fd18ea41f0668a78e2263f95/aes/l/strapmeo/',\n",
       " 'url 1 from the end: strap-eca-009-kraps-8102/5d18ea41f0668a7882263f95/aes/l/strapmeo/',\n",
       " 'url 1 from the end: strap-003-txr-8102/bf18ea41f0668a78c3263f95/aes/l/strapmeo/',\n",
       " 'url 1 from the end: strap-032-txr-8102/0b18ea41f0668a78de163f95/aes/l/strapmeo/',\n",
       " 'url 1 from the end: strap-003-pxr-8102/d618ea41f0668a7804163f95/aes/l/strapmeo/',\n",
       " 'url 1 from the end: strap-003-xtg-8102/8518ea41f0668a7872163f95/aes/l/strapmeo/',\n",
       " 'url 1 from the end: strap-032-xtg-8102/b418ea41f0668a7862163f95/aes/l/strapmeo/',\n",
       " 'url 1 from the end: strap-551-xtg-8102/a318ea41f0668a7842163f95/aes/l/strapmeo/',\n",
       " 'url 1 from the end: strap-09-stg-8102/d218ea41f0668a7812163f95/aes/l/strapmeo/',\n",
       " 'url 1 from the end: strap-032-rtg-8102/5d08ea41f0668a7857063f95/aes/l/strapmeo/',\n",
       " 'url 1 from the end: strap-09-itg-8102/3d08ea41f0668a7857063f95/aes/l/strapmeo/',\n",
       " 'url 1 from the end: strap-551-itg-8102/2d08ea41f0668a7857063f95/aes/l/strapmeo/',\n",
       " 'url 1 from the end: strap-031-itg-8102/4d08ea41f0668a7857063f95/aes/l/strapmeo/',\n",
       " 'url 1 from the end: strap-032-orp-ekaw-9102/9434f8cc70668a78308d57c5/aes/l/strapmeo/',\n",
       " 'url 1 from the end: strap-551-ekaw-9102/4a34f8cc70668a78828d57c5/aes/l/strapmeo/',\n",
       " 'url 1 from the end: strap-xxirt-kraps-9102/1434f8cc70668a78108d57c5/aes/l/strapmeo/',\n",
       " 'url 1 from the end: strap-eca-oh-009-kraps-9102/3834f8cc70668a78518d57c5/aes/l/strapmeo/',\n",
       " 'url 1 from the end: strap-eca-009-kraps-9102/e234f8cc70668a78cf7d57c5/aes/l/strapmeo/',\n",
       " 'url 1 from the end: strap-551-ras-9102/c0b26e81b1668a786b9781e5/aes/l/strapmeo/',\n",
       " 'url 1 from the end: strap-003-txr-9102/6f24f8cc70668a78de7d57c5/aes/l/strapmeo/',\n",
       " 'url 1 from the end: strap-032-txr-9102/ce24f8cc70668a78ce7d57c5/aes/l/strapmeo/',\n",
       " 'url 1 from the end: strap-003-pxr-9102/7d24f8cc70668a784e7d57c5/aes/l/strapmeo/',\n",
       " 'url 1 from the end: strap-003-xtg-9102/2824f8cc70668a78cc7d57c5/aes/l/strapmeo/',\n",
       " 'url 1 from the end: strap-032-xtg-9102/9724f8cc70668a78bc7d57c5/aes/l/strapmeo/',\n",
       " 'url 1 from the end: strap-551-xtg-9102/8724f8cc70668a78bc7d57c5/aes/l/strapmeo/',\n",
       " 'url 1 from the end: strap-032-rtg-9102/2724f8cc70668a78ac7d57c5/aes/l/strapmeo/',\n",
       " 'url 1 from the end: strap-09-itg-9102/2124f8cc70668a78597d57c5/aes/l/strapmeo/',\n",
       " 'url 1 from the end: strap-551-itg-9102/4124f8cc70668a78597d57c5/aes/l/strapmeo/',\n",
       " 'url 1 from the end: strap-latner-031-itg-9102/3124f8cc70668a78597d57c5/aes/l/strapmeo/',\n",
       " 'url 1 from the end: strap-031-itg-9102/1124f8cc70668a78597d57c5/aes/l/strapmeo/',\n",
       " 'url 1 from the end: strap-orp-hsif-9102/2d24f8cc70668a783e7d57c5/aes/l/strapmeo/']"
      ]
     },
     "execution_count": 61,
     "metadata": {},
     "output_type": "execute_result"
    }
   ],
   "source": [
    "storage"
   ]
  },
  {
   "cell_type": "code",
   "execution_count": 74,
   "metadata": {},
   "outputs": [
    {
     "name": "stderr",
     "output_type": "stream",
     "text": [
      "Parameter format not correct - \"Projects\".\n"
     ]
    }
   ],
   "source": [
    "%ls 'D:/Projects/web-scrap/seadoo'"
   ]
  },
  {
   "cell_type": "code",
   "execution_count": 79,
   "metadata": {},
   "outputs": [],
   "source": [
    "p = 'D:/Projects/web-scrap/seadoo'"
   ]
  },
  {
   "cell_type": "code",
   "execution_count": 80,
   "metadata": {},
   "outputs": [],
   "source": [
    "os.chdir(p)"
   ]
  },
  {
   "cell_type": "code",
   "execution_count": 106,
   "metadata": {},
   "outputs": [],
   "source": [
    "with open('urls_from_homepage.txt', 'r') as f:\n",
    "    l = f.read().splitlines()[27:39]"
   ]
  },
  {
   "cell_type": "code",
   "execution_count": 108,
   "metadata": {},
   "outputs": [
    {
     "data": {
      "text/plain": [
       "'/oemparts/c/sea_doo_sport_boat_1998/parts'"
      ]
     },
     "execution_count": 108,
     "metadata": {},
     "output_type": "execute_result"
    }
   ],
   "source": [
    "l.pop()"
   ]
  },
  {
   "cell_type": "code",
   "execution_count": 105,
   "metadata": {},
   "outputs": [
    {
     "ename": "NameError",
     "evalue": "name 'df' is not defined",
     "output_type": "error",
     "traceback": [
      "\u001b[1;31m---------------------------------------------------------------------------\u001b[0m",
      "\u001b[1;31mNameError\u001b[0m                                 Traceback (most recent call last)",
      "\u001b[1;32m<ipython-input-105-00cf07b74dcd>\u001b[0m in \u001b[0;36m<module>\u001b[1;34m\u001b[0m\n\u001b[1;32m----> 1\u001b[1;33m \u001b[0mdf\u001b[0m\u001b[1;33m\u001b[0m\u001b[1;33m\u001b[0m\u001b[0m\n\u001b[0m",
      "\u001b[1;31mNameError\u001b[0m: name 'df' is not defined"
     ]
    }
   ],
   "source": [
    "df"
   ]
  },
  {
   "cell_type": "code",
   "execution_count": null,
   "metadata": {},
   "outputs": [],
   "source": []
  },
  {
   "cell_type": "code",
   "execution_count": null,
   "metadata": {},
   "outputs": [],
   "source": []
  },
  {
   "cell_type": "code",
   "execution_count": null,
   "metadata": {},
   "outputs": [],
   "source": []
  },
  {
   "cell_type": "code",
   "execution_count": null,
   "metadata": {},
   "outputs": [],
   "source": []
  },
  {
   "cell_type": "code",
   "execution_count": null,
   "metadata": {},
   "outputs": [],
   "source": []
  }
 ],
 "metadata": {
  "kernelspec": {
   "display_name": "Python 3",
   "language": "python",
   "name": "python3"
  },
  "language_info": {
   "codemirror_mode": {
    "name": "ipython",
    "version": 3
   },
   "file_extension": ".py",
   "mimetype": "text/x-python",
   "name": "python",
   "nbconvert_exporter": "python",
   "pygments_lexer": "ipython3",
   "version": "3.8.5"
  }
 },
 "nbformat": 4,
 "nbformat_minor": 4
}
